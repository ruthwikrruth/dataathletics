{
 "cells": [
  {
   "cell_type": "code",
   "execution_count": 673,
   "metadata": {
    "ExecuteTime": {
     "end_time": "2019-06-20T16:32:15.100527Z",
     "start_time": "2019-06-20T16:32:15.096850Z"
    }
   },
   "outputs": [],
   "source": [
    "import pandas as pd\n",
    "import numpy as np\n",
    "from datetime import timedelta\n",
    "import matplotlib.pyplot as plt   #Data visualisation libraries \n",
    "import seaborn as sns\n",
    "\n",
    "from sklearn.ensemble import RandomForestRegressor, GradientBoostingRegressor\n",
    "from sklearn.model_selection import KFold, cross_val_score"
   ]
  },
  {
   "cell_type": "code",
   "execution_count": 674,
   "metadata": {
    "ExecuteTime": {
     "end_time": "2019-06-20T16:32:15.514721Z",
     "start_time": "2019-06-20T16:32:15.102652Z"
    }
   },
   "outputs": [],
   "source": [
    "df_train = pd.read_csv('train.csv')\n",
    "df_test = pd.read_csv('test.csv')\n",
    "df_subf = pd.read_csv('sample_submission.csv')\n",
    "rates = pd.read_csv('rates.csv', index_col=0, skiprows=0).T.to_dict()"
   ]
  },
  {
   "cell_type": "code",
   "execution_count": 675,
   "metadata": {
    "ExecuteTime": {
     "end_time": "2019-06-20T16:32:17.552987Z",
     "start_time": "2019-06-20T16:32:15.516712Z"
    }
   },
   "outputs": [],
   "source": [
    "# Replace price with price per passenger\n",
    "df_train['price'] = df_train['price'] / df_train['number_of_passengers']\n",
    "df_train['price'] = (df_train.apply(lambda x: (rates[x['currency']]['rate'] * x['price']), axis=1)).round(2)"
   ]
  },
  {
   "cell_type": "code",
   "execution_count": 676,
   "metadata": {
    "ExecuteTime": {
     "end_time": "2019-06-20T16:32:17.561344Z",
     "start_time": "2019-06-20T16:32:17.555245Z"
    }
   },
   "outputs": [],
   "source": [
    "def add_dep_info(df):\n",
    "    df['departure_date'] = pd.to_datetime(df['departure_date'], format='%Y%m%d',exact=True)\n",
    "    df['year'] = df.departure_date.dt.year.astype(str)\n",
    "    # df['week'] = df.departure_date.dt.week.astype(str)\n",
    "    df['month'] = df.departure_date.dt.month.astype(str)\n",
    "    df['day'] = df.departure_date.dt.day.astype(str)\n",
    "    return df\n",
    "\n",
    "def add_arrival_info(dataset):    \n",
    "    dataset['arrival_date'] = dataset.apply(lambda x: x['departure_date'] + timedelta(hours=x['eft']) + timedelta(hours=x['departure_time'] / 100) + timedelta(minutes=x['departure_time'] % 100),\n",
    "                                            axis=1)    \n",
    "    dataset['arrival_time'] = dataset.apply(lambda x: int('%s%s' % (x['arrival_date'].hour, x['arrival_date'].minute)),\n",
    "                                           axis=1)\n",
    "    return dataset"
   ]
  },
  {
   "cell_type": "code",
   "execution_count": 677,
   "metadata": {
    "ExecuteTime": {
     "end_time": "2019-06-20T16:32:17.682113Z",
     "start_time": "2019-06-20T16:32:17.563705Z"
    }
   },
   "outputs": [],
   "source": [
    "# Outliers\n",
    "df_train = df_train.drop(df_train[df_train['id'] == 51950].index)\n",
    "df_train = df_train.drop(df_train[df_train['id'] == 85045].index)\n",
    "df_train = df_train.drop(df_train[df_train['id'] == 89623].index)\n",
    "df_train = df_train.drop(df_train[df_train['id'] == 57157].index)\n",
    "df_train = df_train.drop(df_train[df_train['id'] == 56666].index)\n",
    "df_train = df_train.drop(df_train[df_train['id'] == 77202].index)\n",
    "df_train = df_train.drop(df_train[df_train['id'] == 19741].index)"
   ]
  },
  {
   "cell_type": "code",
   "execution_count": 678,
   "metadata": {
    "ExecuteTime": {
     "end_time": "2019-06-20T16:32:17.686726Z",
     "start_time": "2019-06-20T16:32:17.683962Z"
    }
   },
   "outputs": [],
   "source": [
    "y=df_train['price']"
   ]
  },
  {
   "cell_type": "code",
   "execution_count": 679,
   "metadata": {
    "ExecuteTime": {
     "end_time": "2019-06-20T16:32:17.807681Z",
     "start_time": "2019-06-20T16:32:17.688438Z"
    }
   },
   "outputs": [
    {
     "data": {
      "text/html": [
       "<div>\n",
       "<style scoped>\n",
       "    .dataframe tbody tr th:only-of-type {\n",
       "        vertical-align: middle;\n",
       "    }\n",
       "\n",
       "    .dataframe tbody tr th {\n",
       "        vertical-align: top;\n",
       "    }\n",
       "\n",
       "    .dataframe thead th {\n",
       "        text-align: right;\n",
       "    }\n",
       "</style>\n",
       "<table border=\"1\" class=\"dataframe\">\n",
       "  <thead>\n",
       "    <tr style=\"text-align: right;\">\n",
       "      <th></th>\n",
       "      <th>id</th>\n",
       "      <th>search_date</th>\n",
       "      <th>origin</th>\n",
       "      <th>destination</th>\n",
       "      <th>distance</th>\n",
       "      <th>departure_date</th>\n",
       "      <th>departure_time</th>\n",
       "      <th>departure_day_of_week</th>\n",
       "      <th>advance_purchase</th>\n",
       "      <th>eft</th>\n",
       "      <th>carrier</th>\n",
       "      <th>cabin</th>\n",
       "      <th>rbd</th>\n",
       "      <th>aircraft</th>\n",
       "      <th>number_of_passengers</th>\n",
       "      <th>country</th>\n",
       "      <th>currency</th>\n",
       "    </tr>\n",
       "  </thead>\n",
       "  <tbody>\n",
       "    <tr>\n",
       "      <th>0</th>\n",
       "      <td>1</td>\n",
       "      <td>20181212</td>\n",
       "      <td>BOS</td>\n",
       "      <td>ORD</td>\n",
       "      <td>1390</td>\n",
       "      <td>20181230</td>\n",
       "      <td>705</td>\n",
       "      <td>Sun</td>\n",
       "      <td>18</td>\n",
       "      <td>2.850</td>\n",
       "      <td>UA</td>\n",
       "      <td>M</td>\n",
       "      <td>N</td>\n",
       "      <td>738</td>\n",
       "      <td>2</td>\n",
       "      <td>US</td>\n",
       "      <td>USD</td>\n",
       "    </tr>\n",
       "    <tr>\n",
       "      <th>1</th>\n",
       "      <td>2</td>\n",
       "      <td>20181225</td>\n",
       "      <td>LAX</td>\n",
       "      <td>LAS</td>\n",
       "      <td>380</td>\n",
       "      <td>20181226</td>\n",
       "      <td>1455</td>\n",
       "      <td>Wed</td>\n",
       "      <td>1</td>\n",
       "      <td>1.250</td>\n",
       "      <td>AS</td>\n",
       "      <td>M</td>\n",
       "      <td>H</td>\n",
       "      <td>32S</td>\n",
       "      <td>2</td>\n",
       "      <td>GR</td>\n",
       "      <td>EUR</td>\n",
       "    </tr>\n",
       "    <tr>\n",
       "      <th>2</th>\n",
       "      <td>3</td>\n",
       "      <td>20181220</td>\n",
       "      <td>JFK</td>\n",
       "      <td>FLL</td>\n",
       "      <td>1723</td>\n",
       "      <td>20190112</td>\n",
       "      <td>2132</td>\n",
       "      <td>Sat</td>\n",
       "      <td>23</td>\n",
       "      <td>3.117</td>\n",
       "      <td>B6</td>\n",
       "      <td>M</td>\n",
       "      <td>P</td>\n",
       "      <td>321</td>\n",
       "      <td>3</td>\n",
       "      <td>US</td>\n",
       "      <td>USD</td>\n",
       "    </tr>\n",
       "    <tr>\n",
       "      <th>3</th>\n",
       "      <td>4</td>\n",
       "      <td>20181209</td>\n",
       "      <td>SEA</td>\n",
       "      <td>SFO</td>\n",
       "      <td>1093</td>\n",
       "      <td>20181213</td>\n",
       "      <td>950</td>\n",
       "      <td>Thu</td>\n",
       "      <td>4</td>\n",
       "      <td>2.267</td>\n",
       "      <td>AS</td>\n",
       "      <td>M</td>\n",
       "      <td>B</td>\n",
       "      <td>32S</td>\n",
       "      <td>1</td>\n",
       "      <td>AU</td>\n",
       "      <td>AUD</td>\n",
       "    </tr>\n",
       "    <tr>\n",
       "      <th>4</th>\n",
       "      <td>5</td>\n",
       "      <td>20181231</td>\n",
       "      <td>SFO</td>\n",
       "      <td>LAX</td>\n",
       "      <td>543</td>\n",
       "      <td>20190108</td>\n",
       "      <td>835</td>\n",
       "      <td>Tue</td>\n",
       "      <td>8</td>\n",
       "      <td>1.717</td>\n",
       "      <td>AA</td>\n",
       "      <td>M</td>\n",
       "      <td>L</td>\n",
       "      <td>E75</td>\n",
       "      <td>2</td>\n",
       "      <td>AU</td>\n",
       "      <td>AUD</td>\n",
       "    </tr>\n",
       "    <tr>\n",
       "      <th>5</th>\n",
       "      <td>6</td>\n",
       "      <td>20181214</td>\n",
       "      <td>SFO</td>\n",
       "      <td>FLL</td>\n",
       "      <td>4151</td>\n",
       "      <td>20190105</td>\n",
       "      <td>2359</td>\n",
       "      <td>Sat</td>\n",
       "      <td>22</td>\n",
       "      <td>5.283</td>\n",
       "      <td>B6</td>\n",
       "      <td>M</td>\n",
       "      <td>O</td>\n",
       "      <td>32S</td>\n",
       "      <td>2</td>\n",
       "      <td>US</td>\n",
       "      <td>USD</td>\n",
       "    </tr>\n",
       "    <tr>\n",
       "      <th>6</th>\n",
       "      <td>7</td>\n",
       "      <td>20181229</td>\n",
       "      <td>SFO</td>\n",
       "      <td>SEA</td>\n",
       "      <td>1093</td>\n",
       "      <td>20190104</td>\n",
       "      <td>920</td>\n",
       "      <td>Fri</td>\n",
       "      <td>6</td>\n",
       "      <td>2.217</td>\n",
       "      <td>UA</td>\n",
       "      <td>M</td>\n",
       "      <td>W</td>\n",
       "      <td>739</td>\n",
       "      <td>1</td>\n",
       "      <td>NL</td>\n",
       "      <td>EUR</td>\n",
       "    </tr>\n",
       "    <tr>\n",
       "      <th>7</th>\n",
       "      <td>8</td>\n",
       "      <td>20181221</td>\n",
       "      <td>ORD</td>\n",
       "      <td>MIA</td>\n",
       "      <td>1930</td>\n",
       "      <td>20190110</td>\n",
       "      <td>1905</td>\n",
       "      <td>Thu</td>\n",
       "      <td>20</td>\n",
       "      <td>3.117</td>\n",
       "      <td>UA</td>\n",
       "      <td>M</td>\n",
       "      <td>N</td>\n",
       "      <td>739</td>\n",
       "      <td>2</td>\n",
       "      <td>US</td>\n",
       "      <td>USD</td>\n",
       "    </tr>\n",
       "    <tr>\n",
       "      <th>8</th>\n",
       "      <td>9</td>\n",
       "      <td>20181205</td>\n",
       "      <td>ORD</td>\n",
       "      <td>SFO</td>\n",
       "      <td>2964</td>\n",
       "      <td>20190101</td>\n",
       "      <td>1650</td>\n",
       "      <td>Tue</td>\n",
       "      <td>27</td>\n",
       "      <td>5.133</td>\n",
       "      <td>AS</td>\n",
       "      <td>M</td>\n",
       "      <td>B</td>\n",
       "      <td>32S</td>\n",
       "      <td>4</td>\n",
       "      <td>GR</td>\n",
       "      <td>EUR</td>\n",
       "    </tr>\n",
       "    <tr>\n",
       "      <th>9</th>\n",
       "      <td>10</td>\n",
       "      <td>20181230</td>\n",
       "      <td>SFO</td>\n",
       "      <td>LAX</td>\n",
       "      <td>543</td>\n",
       "      <td>20190520</td>\n",
       "      <td>1420</td>\n",
       "      <td>Mon</td>\n",
       "      <td>141</td>\n",
       "      <td>1.583</td>\n",
       "      <td>AS</td>\n",
       "      <td>M</td>\n",
       "      <td>R</td>\n",
       "      <td>73J</td>\n",
       "      <td>1</td>\n",
       "      <td>HK</td>\n",
       "      <td>HKD</td>\n",
       "    </tr>\n",
       "  </tbody>\n",
       "</table>\n",
       "</div>"
      ],
      "text/plain": [
       "   id  search_date origin destination  distance  departure_date  \\\n",
       "0   1     20181212    BOS         ORD      1390        20181230   \n",
       "1   2     20181225    LAX         LAS       380        20181226   \n",
       "2   3     20181220    JFK         FLL      1723        20190112   \n",
       "3   4     20181209    SEA         SFO      1093        20181213   \n",
       "4   5     20181231    SFO         LAX       543        20190108   \n",
       "5   6     20181214    SFO         FLL      4151        20190105   \n",
       "6   7     20181229    SFO         SEA      1093        20190104   \n",
       "7   8     20181221    ORD         MIA      1930        20190110   \n",
       "8   9     20181205    ORD         SFO      2964        20190101   \n",
       "9  10     20181230    SFO         LAX       543        20190520   \n",
       "\n",
       "   departure_time departure_day_of_week  advance_purchase    eft carrier  \\\n",
       "0             705                   Sun                18  2.850      UA   \n",
       "1            1455                   Wed                 1  1.250      AS   \n",
       "2            2132                   Sat                23  3.117      B6   \n",
       "3             950                   Thu                 4  2.267      AS   \n",
       "4             835                   Tue                 8  1.717      AA   \n",
       "5            2359                   Sat                22  5.283      B6   \n",
       "6             920                   Fri                 6  2.217      UA   \n",
       "7            1905                   Thu                20  3.117      UA   \n",
       "8            1650                   Tue                27  5.133      AS   \n",
       "9            1420                   Mon               141  1.583      AS   \n",
       "\n",
       "  cabin rbd aircraft  number_of_passengers country currency  \n",
       "0     M   N      738                     2      US      USD  \n",
       "1     M   H      32S                     2      GR      EUR  \n",
       "2     M   P      321                     3      US      USD  \n",
       "3     M   B      32S                     1      AU      AUD  \n",
       "4     M   L      E75                     2      AU      AUD  \n",
       "5     M   O      32S                     2      US      USD  \n",
       "6     M   W      739                     1      NL      EUR  \n",
       "7     M   N      739                     2      US      USD  \n",
       "8     M   B      32S                     4      GR      EUR  \n",
       "9     M   R      73J                     1      HK      HKD  "
      ]
     },
     "execution_count": 679,
     "metadata": {},
     "output_type": "execute_result"
    }
   ],
   "source": [
    "df_train = df_train.drop(['price'],axis=1)\n",
    "df = pd.concat([df_train, df_test],sort=False).reset_index(drop=True)\n",
    "df.head(10)"
   ]
  },
  {
   "cell_type": "code",
   "execution_count": 680,
   "metadata": {
    "ExecuteTime": {
     "end_time": "2019-06-20T16:32:17.816118Z",
     "start_time": "2019-06-20T16:32:17.810652Z"
    }
   },
   "outputs": [],
   "source": [
    "df_subf['number_of_passengers'] = df_test['number_of_passengers']\n",
    "df_subf['currency'] = df_test['currency']"
   ]
  },
  {
   "cell_type": "code",
   "execution_count": 681,
   "metadata": {
    "ExecuteTime": {
     "end_time": "2019-06-20T16:32:36.521422Z",
     "start_time": "2019-06-20T16:32:17.818473Z"
    }
   },
   "outputs": [],
   "source": [
    "# Add deparutre info\n",
    "df = add_dep_info(df)\n",
    "\n",
    "# Add arrival info\n",
    "df = add_arrival_info(df)\n",
    "\n",
    "# Encode depature time/ aririval time\n",
    "df['departure_time'] = df['departure_time'].apply(lambda x: int(x / 300)).astype(str)\n",
    "df['arrival_time'] = df['arrival_time'].apply(lambda x: int(x / 300)).astype(str)\n",
    "\n",
    "df['origin_destination'] = df_train['origin'] + '-' + df_train['destination']\n",
    "df['is_weekend'] = df['departure_day_of_week'].apply(lambda x: x in ['Fri', 'Sat', 'Sun']).astype(str)\n",
    "df['advance_purchase'] = df['advance_purchase'].apply(lambda x: x if x < 90 else 90)\n",
    "df['advance_purchase']= np.log1p(df['advance_purchase'])\n",
    "\n",
    "\n",
    "# df['distance']= np.log1p(df['distance'])\n",
    "y= np.log1p(y)\n"
   ]
  },
  {
   "cell_type": "code",
   "execution_count": 682,
   "metadata": {
    "ExecuteTime": {
     "end_time": "2019-06-20T16:32:36.909319Z",
     "start_time": "2019-06-20T16:32:36.523053Z"
    }
   },
   "outputs": [
    {
     "data": {
      "text/plain": [
       "<matplotlib.axes._subplots.AxesSubplot at 0x19936b978>"
      ]
     },
     "execution_count": 682,
     "metadata": {},
     "output_type": "execute_result"
    },
    {
     "data": {
      "image/png": "[encoded data removed]",
      "text/plain": [
       "<Figure size 432x288 with 1 Axes>"
      ]
     },
     "metadata": {
      "needs_background": "light"
     },
     "output_type": "display_data"
    }
   ],
   "source": [
    "sns.distplot(y)\n"
   ]
  },
  {
   "cell_type": "code",
   "execution_count": 683,
   "metadata": {
    "ExecuteTime": {
     "end_time": "2019-06-20T16:32:36.914740Z",
     "start_time": "2019-06-20T16:32:36.911663Z"
    }
   },
   "outputs": [],
   "source": [
    "# df = df.sort_values(['origin_destination'], ascending=True)"
   ]
  },
  {
   "cell_type": "code",
   "execution_count": 684,
   "metadata": {
    "ExecuteTime": {
     "end_time": "2019-06-20T16:32:37.046408Z",
     "start_time": "2019-06-20T16:32:36.917031Z"
    }
   },
   "outputs": [
    {
     "data": {
      "text/html": [
       "<div>\n",
       "<style scoped>\n",
       "    .dataframe tbody tr th:only-of-type {\n",
       "        vertical-align: middle;\n",
       "    }\n",
       "\n",
       "    .dataframe tbody tr th {\n",
       "        vertical-align: top;\n",
       "    }\n",
       "\n",
       "    .dataframe thead th {\n",
       "        text-align: right;\n",
       "    }\n",
       "</style>\n",
       "<table border=\"1\" class=\"dataframe\">\n",
       "  <thead>\n",
       "    <tr style=\"text-align: right;\">\n",
       "      <th></th>\n",
       "      <th>id</th>\n",
       "      <th>origin</th>\n",
       "      <th>destination</th>\n",
       "      <th>distance</th>\n",
       "      <th>departure_time</th>\n",
       "      <th>departure_day_of_week</th>\n",
       "      <th>advance_purchase</th>\n",
       "      <th>eft</th>\n",
       "      <th>carrier</th>\n",
       "      <th>cabin</th>\n",
       "      <th>...</th>\n",
       "      <th>aircraft</th>\n",
       "      <th>number_of_passengers</th>\n",
       "      <th>country</th>\n",
       "      <th>currency</th>\n",
       "      <th>year</th>\n",
       "      <th>month</th>\n",
       "      <th>day</th>\n",
       "      <th>arrival_time</th>\n",
       "      <th>origin_destination</th>\n",
       "      <th>is_weekend</th>\n",
       "    </tr>\n",
       "  </thead>\n",
       "  <tbody>\n",
       "    <tr>\n",
       "      <th>0</th>\n",
       "      <td>1</td>\n",
       "      <td>BOS</td>\n",
       "      <td>ORD</td>\n",
       "      <td>1390</td>\n",
       "      <td>2</td>\n",
       "      <td>Sun</td>\n",
       "      <td>2.944439</td>\n",
       "      <td>2.850</td>\n",
       "      <td>UA</td>\n",
       "      <td>M</td>\n",
       "      <td>...</td>\n",
       "      <td>738</td>\n",
       "      <td>2</td>\n",
       "      <td>US</td>\n",
       "      <td>USD</td>\n",
       "      <td>2018</td>\n",
       "      <td>12</td>\n",
       "      <td>30</td>\n",
       "      <td>3</td>\n",
       "      <td>BOS-ORD</td>\n",
       "      <td>True</td>\n",
       "    </tr>\n",
       "    <tr>\n",
       "      <th>1</th>\n",
       "      <td>2</td>\n",
       "      <td>LAX</td>\n",
       "      <td>LAS</td>\n",
       "      <td>380</td>\n",
       "      <td>4</td>\n",
       "      <td>Wed</td>\n",
       "      <td>0.693147</td>\n",
       "      <td>1.250</td>\n",
       "      <td>AS</td>\n",
       "      <td>M</td>\n",
       "      <td>...</td>\n",
       "      <td>32S</td>\n",
       "      <td>2</td>\n",
       "      <td>GR</td>\n",
       "      <td>EUR</td>\n",
       "      <td>2018</td>\n",
       "      <td>12</td>\n",
       "      <td>26</td>\n",
       "      <td>5</td>\n",
       "      <td>LAX-LAS</td>\n",
       "      <td>False</td>\n",
       "    </tr>\n",
       "    <tr>\n",
       "      <th>2</th>\n",
       "      <td>3</td>\n",
       "      <td>JFK</td>\n",
       "      <td>FLL</td>\n",
       "      <td>1723</td>\n",
       "      <td>7</td>\n",
       "      <td>Sat</td>\n",
       "      <td>3.178054</td>\n",
       "      <td>3.117</td>\n",
       "      <td>B6</td>\n",
       "      <td>M</td>\n",
       "      <td>...</td>\n",
       "      <td>321</td>\n",
       "      <td>3</td>\n",
       "      <td>US</td>\n",
       "      <td>USD</td>\n",
       "      <td>2019</td>\n",
       "      <td>1</td>\n",
       "      <td>12</td>\n",
       "      <td>0</td>\n",
       "      <td>JFK-FLL</td>\n",
       "      <td>True</td>\n",
       "    </tr>\n",
       "    <tr>\n",
       "      <th>3</th>\n",
       "      <td>4</td>\n",
       "      <td>SEA</td>\n",
       "      <td>SFO</td>\n",
       "      <td>1093</td>\n",
       "      <td>3</td>\n",
       "      <td>Thu</td>\n",
       "      <td>1.609438</td>\n",
       "      <td>2.267</td>\n",
       "      <td>AS</td>\n",
       "      <td>M</td>\n",
       "      <td>...</td>\n",
       "      <td>32S</td>\n",
       "      <td>1</td>\n",
       "      <td>AU</td>\n",
       "      <td>AUD</td>\n",
       "      <td>2018</td>\n",
       "      <td>12</td>\n",
       "      <td>13</td>\n",
       "      <td>4</td>\n",
       "      <td>SEA-SFO</td>\n",
       "      <td>False</td>\n",
       "    </tr>\n",
       "    <tr>\n",
       "      <th>4</th>\n",
       "      <td>5</td>\n",
       "      <td>SFO</td>\n",
       "      <td>LAX</td>\n",
       "      <td>543</td>\n",
       "      <td>2</td>\n",
       "      <td>Tue</td>\n",
       "      <td>2.197225</td>\n",
       "      <td>1.717</td>\n",
       "      <td>AA</td>\n",
       "      <td>M</td>\n",
       "      <td>...</td>\n",
       "      <td>E75</td>\n",
       "      <td>2</td>\n",
       "      <td>AU</td>\n",
       "      <td>AUD</td>\n",
       "      <td>2019</td>\n",
       "      <td>1</td>\n",
       "      <td>8</td>\n",
       "      <td>3</td>\n",
       "      <td>SFO-LAX</td>\n",
       "      <td>False</td>\n",
       "    </tr>\n",
       "  </tbody>\n",
       "</table>\n",
       "<p>5 rows × 21 columns</p>\n",
       "</div>"
      ],
      "text/plain": [
       "   id origin destination  distance departure_time departure_day_of_week  \\\n",
       "0   1    BOS         ORD      1390              2                   Sun   \n",
       "1   2    LAX         LAS       380              4                   Wed   \n",
       "2   3    JFK         FLL      1723              7                   Sat   \n",
       "3   4    SEA         SFO      1093              3                   Thu   \n",
       "4   5    SFO         LAX       543              2                   Tue   \n",
       "\n",
       "   advance_purchase    eft carrier cabin  ... aircraft number_of_passengers  \\\n",
       "0          2.944439  2.850      UA     M  ...      738                    2   \n",
       "1          0.693147  1.250      AS     M  ...      32S                    2   \n",
       "2          3.178054  3.117      B6     M  ...      321                    3   \n",
       "3          1.609438  2.267      AS     M  ...      32S                    1   \n",
       "4          2.197225  1.717      AA     M  ...      E75                    2   \n",
       "\n",
       "   country currency  year month day arrival_time origin_destination is_weekend  \n",
       "0       US      USD  2018    12  30            3            BOS-ORD       True  \n",
       "1       GR      EUR  2018    12  26            5            LAX-LAS      False  \n",
       "2       US      USD  2019     1  12            0            JFK-FLL       True  \n",
       "3       AU      AUD  2018    12  13            4            SEA-SFO      False  \n",
       "4       AU      AUD  2019     1   8            3            SFO-LAX      False  \n",
       "\n",
       "[5 rows x 21 columns]"
      ]
     },
     "execution_count": 684,
     "metadata": {},
     "output_type": "execute_result"
    }
   ],
   "source": [
    "df = df.drop([ 'search_date',\n",
    "              'departure_date',\n",
    "              'arrival_date',\n",
    "              'number_of_passengers'\n",
    "             ], axis = 1)\n",
    "df.head()\n"
   ]
  },
  {
   "cell_type": "code",
   "execution_count": 685,
   "metadata": {
    "ExecuteTime": {
     "end_time": "2019-06-20T16:32:37.631480Z",
     "start_time": "2019-06-20T16:32:37.048300Z"
    },
    "scrolled": false
   },
   "outputs": [
    {
     "data": {
      "text/html": [
       "<div>\n",
       "<style scoped>\n",
       "    .dataframe tbody tr th:only-of-type {\n",
       "        vertical-align: middle;\n",
       "    }\n",
       "\n",
       "    .dataframe tbody tr th {\n",
       "        vertical-align: top;\n",
       "    }\n",
       "\n",
       "    .dataframe thead th {\n",
       "        text-align: right;\n",
       "    }\n",
       "</style>\n",
       "<table border=\"1\" class=\"dataframe\">\n",
       "  <thead>\n",
       "    <tr style=\"text-align: right;\">\n",
       "      <th></th>\n",
       "      <th>id</th>\n",
       "      <th>distance</th>\n",
       "      <th>advance_purchase</th>\n",
       "      <th>eft</th>\n",
       "      <th>number_of_passengers</th>\n",
       "      <th>origin_ATL</th>\n",
       "      <th>origin_BOS</th>\n",
       "      <th>origin_DEN</th>\n",
       "      <th>origin_DFW</th>\n",
       "      <th>origin_EWR</th>\n",
       "      <th>...</th>\n",
       "      <th>origin_destination_SFO-FLL</th>\n",
       "      <th>origin_destination_SFO-JFK</th>\n",
       "      <th>origin_destination_SFO-LAS</th>\n",
       "      <th>origin_destination_SFO-LAX</th>\n",
       "      <th>origin_destination_SFO-MCO</th>\n",
       "      <th>origin_destination_SFO-MIA</th>\n",
       "      <th>origin_destination_SFO-ORD</th>\n",
       "      <th>origin_destination_SFO-SEA</th>\n",
       "      <th>is_weekend_False</th>\n",
       "      <th>is_weekend_True</th>\n",
       "    </tr>\n",
       "  </thead>\n",
       "  <tbody>\n",
       "    <tr>\n",
       "      <th>0</th>\n",
       "      <td>1</td>\n",
       "      <td>1390</td>\n",
       "      <td>2.944439</td>\n",
       "      <td>2.850</td>\n",
       "      <td>2</td>\n",
       "      <td>0</td>\n",
       "      <td>1</td>\n",
       "      <td>0</td>\n",
       "      <td>0</td>\n",
       "      <td>0</td>\n",
       "      <td>...</td>\n",
       "      <td>0</td>\n",
       "      <td>0</td>\n",
       "      <td>0</td>\n",
       "      <td>0</td>\n",
       "      <td>0</td>\n",
       "      <td>0</td>\n",
       "      <td>0</td>\n",
       "      <td>0</td>\n",
       "      <td>0</td>\n",
       "      <td>1</td>\n",
       "    </tr>\n",
       "    <tr>\n",
       "      <th>1</th>\n",
       "      <td>2</td>\n",
       "      <td>380</td>\n",
       "      <td>0.693147</td>\n",
       "      <td>1.250</td>\n",
       "      <td>2</td>\n",
       "      <td>0</td>\n",
       "      <td>0</td>\n",
       "      <td>0</td>\n",
       "      <td>0</td>\n",
       "      <td>0</td>\n",
       "      <td>...</td>\n",
       "      <td>0</td>\n",
       "      <td>0</td>\n",
       "      <td>0</td>\n",
       "      <td>0</td>\n",
       "      <td>0</td>\n",
       "      <td>0</td>\n",
       "      <td>0</td>\n",
       "      <td>0</td>\n",
       "      <td>1</td>\n",
       "      <td>0</td>\n",
       "    </tr>\n",
       "    <tr>\n",
       "      <th>2</th>\n",
       "      <td>3</td>\n",
       "      <td>1723</td>\n",
       "      <td>3.178054</td>\n",
       "      <td>3.117</td>\n",
       "      <td>3</td>\n",
       "      <td>0</td>\n",
       "      <td>0</td>\n",
       "      <td>0</td>\n",
       "      <td>0</td>\n",
       "      <td>0</td>\n",
       "      <td>...</td>\n",
       "      <td>0</td>\n",
       "      <td>0</td>\n",
       "      <td>0</td>\n",
       "      <td>0</td>\n",
       "      <td>0</td>\n",
       "      <td>0</td>\n",
       "      <td>0</td>\n",
       "      <td>0</td>\n",
       "      <td>0</td>\n",
       "      <td>1</td>\n",
       "    </tr>\n",
       "    <tr>\n",
       "      <th>3</th>\n",
       "      <td>4</td>\n",
       "      <td>1093</td>\n",
       "      <td>1.609438</td>\n",
       "      <td>2.267</td>\n",
       "      <td>1</td>\n",
       "      <td>0</td>\n",
       "      <td>0</td>\n",
       "      <td>0</td>\n",
       "      <td>0</td>\n",
       "      <td>0</td>\n",
       "      <td>...</td>\n",
       "      <td>0</td>\n",
       "      <td>0</td>\n",
       "      <td>0</td>\n",
       "      <td>0</td>\n",
       "      <td>0</td>\n",
       "      <td>0</td>\n",
       "      <td>0</td>\n",
       "      <td>0</td>\n",
       "      <td>1</td>\n",
       "      <td>0</td>\n",
       "    </tr>\n",
       "    <tr>\n",
       "      <th>4</th>\n",
       "      <td>5</td>\n",
       "      <td>543</td>\n",
       "      <td>2.197225</td>\n",
       "      <td>1.717</td>\n",
       "      <td>2</td>\n",
       "      <td>0</td>\n",
       "      <td>0</td>\n",
       "      <td>0</td>\n",
       "      <td>0</td>\n",
       "      <td>0</td>\n",
       "      <td>...</td>\n",
       "      <td>0</td>\n",
       "      <td>0</td>\n",
       "      <td>0</td>\n",
       "      <td>1</td>\n",
       "      <td>0</td>\n",
       "      <td>0</td>\n",
       "      <td>0</td>\n",
       "      <td>0</td>\n",
       "      <td>1</td>\n",
       "      <td>0</td>\n",
       "    </tr>\n",
       "  </tbody>\n",
       "</table>\n",
       "<p>5 rows × 352 columns</p>\n",
       "</div>"
      ],
      "text/plain": [
       "   id  distance  advance_purchase    eft  number_of_passengers  origin_ATL  \\\n",
       "0   1      1390          2.944439  2.850                     2           0   \n",
       "1   2       380          0.693147  1.250                     2           0   \n",
       "2   3      1723          3.178054  3.117                     3           0   \n",
       "3   4      1093          1.609438  2.267                     1           0   \n",
       "4   5       543          2.197225  1.717                     2           0   \n",
       "\n",
       "   origin_BOS  origin_DEN  origin_DFW  origin_EWR  ...  \\\n",
       "0           1           0           0           0  ...   \n",
       "1           0           0           0           0  ...   \n",
       "2           0           0           0           0  ...   \n",
       "3           0           0           0           0  ...   \n",
       "4           0           0           0           0  ...   \n",
       "\n",
       "   origin_destination_SFO-FLL  origin_destination_SFO-JFK  \\\n",
       "0                           0                           0   \n",
       "1                           0                           0   \n",
       "2                           0                           0   \n",
       "3                           0                           0   \n",
       "4                           0                           0   \n",
       "\n",
       "   origin_destination_SFO-LAS  origin_destination_SFO-LAX  \\\n",
       "0                           0                           0   \n",
       "1                           0                           0   \n",
       "2                           0                           0   \n",
       "3                           0                           0   \n",
       "4                           0                           1   \n",
       "\n",
       "   origin_destination_SFO-MCO  origin_destination_SFO-MIA  \\\n",
       "0                           0                           0   \n",
       "1                           0                           0   \n",
       "2                           0                           0   \n",
       "3                           0                           0   \n",
       "4                           0                           0   \n",
       "\n",
       "   origin_destination_SFO-ORD  origin_destination_SFO-SEA  is_weekend_False  \\\n",
       "0                           0                           0                 0   \n",
       "1                           0                           0                 1   \n",
       "2                           0                           0                 0   \n",
       "3                           0                           0                 1   \n",
       "4                           0                           0                 1   \n",
       "\n",
       "   is_weekend_True  \n",
       "0                1  \n",
       "1                0  \n",
       "2                1  \n",
       "3                0  \n",
       "4                0  \n",
       "\n",
       "[5 rows x 352 columns]"
      ]
     },
     "execution_count": 685,
     "metadata": {},
     "output_type": "execute_result"
    }
   ],
   "source": [
    "df = pd.get_dummies(df)\n",
    "df.head()"
   ]
  },
  {
   "cell_type": "code",
   "execution_count": 686,
   "metadata": {
    "ExecuteTime": {
     "end_time": "2019-06-20T16:32:37.863103Z",
     "start_time": "2019-06-20T16:32:37.633182Z"
    }
   },
   "outputs": [],
   "source": [
    "df = df.drop(['id'], axis = 1)\n",
    "X = df.iloc[:len(y),:]\n",
    "X_sub = df.iloc[len(y):,:]\n"
   ]
  },
  {
   "cell_type": "code",
   "execution_count": 687,
   "metadata": {
    "ExecuteTime": {
     "end_time": "2019-06-20T16:32:37.867280Z",
     "start_time": "2019-06-20T16:32:37.864895Z"
    }
   },
   "outputs": [],
   "source": [
    "from sklearn.model_selection import train_test_split"
   ]
  },
  {
   "cell_type": "code",
   "execution_count": 688,
   "metadata": {
    "ExecuteTime": {
     "end_time": "2019-06-20T16:32:38.022069Z",
     "start_time": "2019-06-20T16:32:37.869143Z"
    },
    "scrolled": true
   },
   "outputs": [
    {
     "data": {
      "text/plain": [
       "(79994, 351)"
      ]
     },
     "execution_count": 688,
     "metadata": {},
     "output_type": "execute_result"
    }
   ],
   "source": [
    "X_train, X_test, y_train, y_test = train_test_split(X, y, test_size=0.2, random_state=11)\n",
    "X_train.shape"
   ]
  },
  {
   "cell_type": "code",
   "execution_count": 689,
   "metadata": {
    "ExecuteTime": {
     "end_time": "2019-06-20T16:32:38.027119Z",
     "start_time": "2019-06-20T16:32:38.023793Z"
    }
   },
   "outputs": [],
   "source": [
    "def mean_absolute_percentage_error(y_true, y_pred): \n",
    "    y_true, y_pred = np.array(np.expm1(y_true)), np.array(np.expm1(y_pred))\n",
    "    return np.mean(np.abs((y_true - y_pred) / y_true)) * 100"
   ]
  },
  {
   "cell_type": "markdown",
   "metadata": {},
   "source": [
    "### Training"
   ]
  },
  {
   "cell_type": "markdown",
   "metadata": {},
   "source": [
    "#### Random Forest"
   ]
  },
  {
   "cell_type": "code",
   "execution_count": 690,
   "metadata": {
    "ExecuteTime": {
     "end_time": "2019-06-20T16:32:38.049071Z",
     "start_time": "2019-06-20T16:32:38.028792Z"
    },
    "scrolled": false
   },
   "outputs": [],
   "source": [
    "rf_model = RandomForestRegressor(bootstrap=True,\n",
    "                                 criterion='mse',\n",
    "                                 max_depth=None,\n",
    "                                 max_features='auto',\n",
    "                                 max_leaf_nodes=None,\n",
    "                                 min_impurity_decrease=0.0,\n",
    "                                 min_impurity_split=None,\n",
    "                                 min_samples_leaf=1,\n",
    "                                 min_samples_split=2,                                 \n",
    "                                 min_weight_fraction_leaf=0.0,\n",
    "                                 n_estimators=10,\n",
    "                                 n_jobs=-1,                                 \n",
    "                                 oob_score=False,\n",
    "                                 random_state=42,\n",
    "                                 verbose=1,\n",
    "                                 warm_start=False)"
   ]
  },
  {
   "cell_type": "code",
   "execution_count": 691,
   "metadata": {
    "ExecuteTime": {
     "end_time": "2019-06-20T16:32:46.614769Z",
     "start_time": "2019-06-20T16:32:38.051081Z"
    }
   },
   "outputs": [
    {
     "name": "stderr",
     "output_type": "stream",
     "text": [
      "[Parallel(n_jobs=-1)]: Using backend ThreadingBackend with 8 concurrent workers.\n",
      "[Parallel(n_jobs=-1)]: Done   6 out of  10 | elapsed:    5.1s remaining:    3.4s\n",
      "[Parallel(n_jobs=-1)]: Done  10 out of  10 | elapsed:    8.2s finished\n"
     ]
    }
   ],
   "source": [
    "rf_model.fit(X_train, y_train);"
   ]
  },
  {
   "cell_type": "markdown",
   "metadata": {},
   "source": [
    "#### Predictions"
   ]
  },
  {
   "cell_type": "code",
   "execution_count": 692,
   "metadata": {
    "ExecuteTime": {
     "end_time": "2019-06-20T16:32:46.828042Z",
     "start_time": "2019-06-20T16:32:46.616494Z"
    }
   },
   "outputs": [
    {
     "name": "stderr",
     "output_type": "stream",
     "text": [
      "[Parallel(n_jobs=8)]: Using backend ThreadingBackend with 8 concurrent workers.\n",
      "[Parallel(n_jobs=8)]: Done   6 out of  10 | elapsed:    0.0s remaining:    0.0s\n",
      "[Parallel(n_jobs=8)]: Done  10 out of  10 | elapsed:    0.0s finished\n"
     ]
    },
    {
     "data": {
      "text/plain": [
       "array([5.10036539, 4.83647168, 4.92086607, ..., 4.00680135, 5.19769074,\n",
       "       4.72481519])"
      ]
     },
     "execution_count": 692,
     "metadata": {},
     "output_type": "execute_result"
    }
   ],
   "source": [
    "predictions = rf_model.predict(np.array(X_test))\n",
    "predictions"
   ]
  },
  {
   "cell_type": "code",
   "execution_count": 693,
   "metadata": {
    "ExecuteTime": {
     "end_time": "2019-06-20T16:32:47.216576Z",
     "start_time": "2019-06-20T16:32:46.829894Z"
    },
    "scrolled": false
   },
   "outputs": [
    {
     "data": {
      "text/plain": [
       "<matplotlib.collections.PathCollection at 0x1d7090f60>"
      ]
     },
     "execution_count": 693,
     "metadata": {},
     "output_type": "execute_result"
    },
    {
     "data": {
      "image/png": "[encoded data removed]",
      "text/plain": [
       "<Figure size 432x288 with 1 Axes>"
      ]
     },
     "metadata": {
      "needs_background": "light"
     },
     "output_type": "display_data"
    }
   ],
   "source": [
    "plt.title(\"RandomForestRegressor\")\n",
    "plt.scatter(np.expm1(y_test),np.expm1(predictions))"
   ]
  },
  {
   "cell_type": "code",
   "execution_count": 694,
   "metadata": {
    "ExecuteTime": {
     "end_time": "2019-06-20T16:32:47.224892Z",
     "start_time": "2019-06-20T16:32:47.218368Z"
    }
   },
   "outputs": [
    {
     "data": {
      "text/plain": [
       "11.87525275477879"
      ]
     },
     "execution_count": 694,
     "metadata": {},
     "output_type": "execute_result"
    }
   ],
   "source": [
    "mean_absolute_percentage_error(y_test, predictions)"
   ]
  },
  {
   "cell_type": "code",
   "execution_count": 695,
   "metadata": {
    "ExecuteTime": {
     "end_time": "2019-06-20T16:32:47.256783Z",
     "start_time": "2019-06-20T16:32:47.229656Z"
    }
   },
   "outputs": [
    {
     "data": {
      "text/html": [
       "<div>\n",
       "<style scoped>\n",
       "    .dataframe tbody tr th:only-of-type {\n",
       "        vertical-align: middle;\n",
       "    }\n",
       "\n",
       "    .dataframe tbody tr th {\n",
       "        vertical-align: top;\n",
       "    }\n",
       "\n",
       "    .dataframe thead th {\n",
       "        text-align: right;\n",
       "    }\n",
       "</style>\n",
       "<table border=\"1\" class=\"dataframe\">\n",
       "  <thead>\n",
       "    <tr style=\"text-align: right;\">\n",
       "      <th></th>\n",
       "      <th>distance</th>\n",
       "      <th>advance_purchase</th>\n",
       "      <th>eft</th>\n",
       "      <th>number_of_passengers</th>\n",
       "      <th>origin_ATL</th>\n",
       "      <th>origin_BOS</th>\n",
       "      <th>origin_DEN</th>\n",
       "      <th>origin_DFW</th>\n",
       "      <th>origin_EWR</th>\n",
       "      <th>origin_FLL</th>\n",
       "      <th>...</th>\n",
       "      <th>origin_destination_SFO-FLL</th>\n",
       "      <th>origin_destination_SFO-JFK</th>\n",
       "      <th>origin_destination_SFO-LAS</th>\n",
       "      <th>origin_destination_SFO-LAX</th>\n",
       "      <th>origin_destination_SFO-MCO</th>\n",
       "      <th>origin_destination_SFO-MIA</th>\n",
       "      <th>origin_destination_SFO-ORD</th>\n",
       "      <th>origin_destination_SFO-SEA</th>\n",
       "      <th>is_weekend_False</th>\n",
       "      <th>is_weekend_True</th>\n",
       "    </tr>\n",
       "  </thead>\n",
       "  <tbody>\n",
       "    <tr>\n",
       "      <th>99993</th>\n",
       "      <td>1537</td>\n",
       "      <td>4.127134</td>\n",
       "      <td>3.183</td>\n",
       "      <td>2</td>\n",
       "      <td>0</td>\n",
       "      <td>0</td>\n",
       "      <td>0</td>\n",
       "      <td>0</td>\n",
       "      <td>0</td>\n",
       "      <td>0</td>\n",
       "      <td>...</td>\n",
       "      <td>0</td>\n",
       "      <td>0</td>\n",
       "      <td>0</td>\n",
       "      <td>0</td>\n",
       "      <td>0</td>\n",
       "      <td>0</td>\n",
       "      <td>0</td>\n",
       "      <td>0</td>\n",
       "      <td>0</td>\n",
       "      <td>1</td>\n",
       "    </tr>\n",
       "    <tr>\n",
       "      <th>99994</th>\n",
       "      <td>1510</td>\n",
       "      <td>3.295837</td>\n",
       "      <td>2.900</td>\n",
       "      <td>4</td>\n",
       "      <td>0</td>\n",
       "      <td>0</td>\n",
       "      <td>0</td>\n",
       "      <td>0</td>\n",
       "      <td>1</td>\n",
       "      <td>0</td>\n",
       "      <td>...</td>\n",
       "      <td>0</td>\n",
       "      <td>0</td>\n",
       "      <td>1</td>\n",
       "      <td>0</td>\n",
       "      <td>0</td>\n",
       "      <td>0</td>\n",
       "      <td>0</td>\n",
       "      <td>0</td>\n",
       "      <td>1</td>\n",
       "      <td>0</td>\n",
       "    </tr>\n",
       "    <tr>\n",
       "      <th>99995</th>\n",
       "      <td>1510</td>\n",
       "      <td>3.465736</td>\n",
       "      <td>2.967</td>\n",
       "      <td>4</td>\n",
       "      <td>0</td>\n",
       "      <td>0</td>\n",
       "      <td>0</td>\n",
       "      <td>0</td>\n",
       "      <td>1</td>\n",
       "      <td>0</td>\n",
       "      <td>...</td>\n",
       "      <td>0</td>\n",
       "      <td>0</td>\n",
       "      <td>0</td>\n",
       "      <td>0</td>\n",
       "      <td>0</td>\n",
       "      <td>0</td>\n",
       "      <td>0</td>\n",
       "      <td>0</td>\n",
       "      <td>1</td>\n",
       "      <td>0</td>\n",
       "    </tr>\n",
       "    <tr>\n",
       "      <th>99996</th>\n",
       "      <td>1723</td>\n",
       "      <td>1.386294</td>\n",
       "      <td>2.817</td>\n",
       "      <td>4</td>\n",
       "      <td>0</td>\n",
       "      <td>0</td>\n",
       "      <td>0</td>\n",
       "      <td>0</td>\n",
       "      <td>0</td>\n",
       "      <td>1</td>\n",
       "      <td>...</td>\n",
       "      <td>0</td>\n",
       "      <td>0</td>\n",
       "      <td>0</td>\n",
       "      <td>0</td>\n",
       "      <td>0</td>\n",
       "      <td>0</td>\n",
       "      <td>0</td>\n",
       "      <td>0</td>\n",
       "      <td>1</td>\n",
       "      <td>0</td>\n",
       "    </tr>\n",
       "    <tr>\n",
       "      <th>99997</th>\n",
       "      <td>3494</td>\n",
       "      <td>2.772589</td>\n",
       "      <td>5.800</td>\n",
       "      <td>1</td>\n",
       "      <td>0</td>\n",
       "      <td>0</td>\n",
       "      <td>0</td>\n",
       "      <td>0</td>\n",
       "      <td>0</td>\n",
       "      <td>0</td>\n",
       "      <td>...</td>\n",
       "      <td>0</td>\n",
       "      <td>0</td>\n",
       "      <td>0</td>\n",
       "      <td>0</td>\n",
       "      <td>0</td>\n",
       "      <td>0</td>\n",
       "      <td>0</td>\n",
       "      <td>0</td>\n",
       "      <td>1</td>\n",
       "      <td>0</td>\n",
       "    </tr>\n",
       "  </tbody>\n",
       "</table>\n",
       "<p>5 rows × 351 columns</p>\n",
       "</div>"
      ],
      "text/plain": [
       "       distance  advance_purchase    eft  number_of_passengers  origin_ATL  \\\n",
       "99993      1537          4.127134  3.183                     2           0   \n",
       "99994      1510          3.295837  2.900                     4           0   \n",
       "99995      1510          3.465736  2.967                     4           0   \n",
       "99996      1723          1.386294  2.817                     4           0   \n",
       "99997      3494          2.772589  5.800                     1           0   \n",
       "\n",
       "       origin_BOS  origin_DEN  origin_DFW  origin_EWR  origin_FLL  ...  \\\n",
       "99993           0           0           0           0           0  ...   \n",
       "99994           0           0           0           1           0  ...   \n",
       "99995           0           0           0           1           0  ...   \n",
       "99996           0           0           0           0           1  ...   \n",
       "99997           0           0           0           0           0  ...   \n",
       "\n",
       "       origin_destination_SFO-FLL  origin_destination_SFO-JFK  \\\n",
       "99993                           0                           0   \n",
       "99994                           0                           0   \n",
       "99995                           0                           0   \n",
       "99996                           0                           0   \n",
       "99997                           0                           0   \n",
       "\n",
       "       origin_destination_SFO-LAS  origin_destination_SFO-LAX  \\\n",
       "99993                           0                           0   \n",
       "99994                           1                           0   \n",
       "99995                           0                           0   \n",
       "99996                           0                           0   \n",
       "99997                           0                           0   \n",
       "\n",
       "       origin_destination_SFO-MCO  origin_destination_SFO-MIA  \\\n",
       "99993                           0                           0   \n",
       "99994                           0                           0   \n",
       "99995                           0                           0   \n",
       "99996                           0                           0   \n",
       "99997                           0                           0   \n",
       "\n",
       "       origin_destination_SFO-ORD  origin_destination_SFO-SEA  \\\n",
       "99993                           0                           0   \n",
       "99994                           0                           0   \n",
       "99995                           0                           0   \n",
       "99996                           0                           0   \n",
       "99997                           0                           0   \n",
       "\n",
       "       is_weekend_False  is_weekend_True  \n",
       "99993                 0                1  \n",
       "99994                 1                0  \n",
       "99995                 1                0  \n",
       "99996                 1                0  \n",
       "99997                 1                0  \n",
       "\n",
       "[5 rows x 351 columns]"
      ]
     },
     "execution_count": 695,
     "metadata": {},
     "output_type": "execute_result"
    }
   ],
   "source": [
    "X_sub.head()"
   ]
  },
  {
   "cell_type": "code",
   "execution_count": 696,
   "metadata": {
    "ExecuteTime": {
     "end_time": "2019-06-20T16:32:47.957159Z",
     "start_time": "2019-06-20T16:32:47.260424Z"
    }
   },
   "outputs": [
    {
     "name": "stderr",
     "output_type": "stream",
     "text": [
      "[Parallel(n_jobs=8)]: Using backend ThreadingBackend with 8 concurrent workers.\n",
      "[Parallel(n_jobs=8)]: Done   6 out of  10 | elapsed:    0.1s remaining:    0.0s\n",
      "[Parallel(n_jobs=8)]: Done  10 out of  10 | elapsed:    0.1s finished\n"
     ]
    }
   ],
   "source": [
    "y_sub = rf_model.predict(X_sub)\n",
    "# y_sub = rf_model.predict(np.array(X_sub))"
   ]
  },
  {
   "cell_type": "code",
   "execution_count": 697,
   "metadata": {
    "ExecuteTime": {
     "end_time": "2019-06-20T16:32:47.962658Z",
     "start_time": "2019-06-20T16:32:47.958887Z"
    }
   },
   "outputs": [],
   "source": [
    "y_sub = np.expm1(y_sub)"
   ]
  },
  {
   "cell_type": "code",
   "execution_count": 698,
   "metadata": {
    "ExecuteTime": {
     "end_time": "2019-06-20T16:32:47.970062Z",
     "start_time": "2019-06-20T16:32:47.964777Z"
    }
   },
   "outputs": [],
   "source": [
    "def deNormailzeCurrency (label):\n",
    "    if label['currency'] == 'USD':\n",
    "        return label['price']\n",
    "    elif label['currency'] == 'EUR':\n",
    "        return np.float32(label['price']/1.12)\n",
    "    elif label['currency'] == 'AUD':\n",
    "        return (label['price'] /0.7)\n",
    "    elif label['currency'] == 'HKD':\n",
    "        return (label['price']/0.13)\n",
    "    elif label['currency'] == 'INR':\n",
    "        return (label['price']/0.014)\n",
    "    elif label['currency'] == 'KRW':\n",
    "        return (label['price']/0.00085)\n",
    "    else :\n",
    "        return -1"
   ]
  },
  {
   "cell_type": "code",
   "execution_count": 699,
   "metadata": {
    "ExecuteTime": {
     "end_time": "2019-06-20T16:32:47.985533Z",
     "start_time": "2019-06-20T16:32:47.972129Z"
    }
   },
   "outputs": [
    {
     "data": {
      "text/html": [
       "<div>\n",
       "<style scoped>\n",
       "    .dataframe tbody tr th:only-of-type {\n",
       "        vertical-align: middle;\n",
       "    }\n",
       "\n",
       "    .dataframe tbody tr th {\n",
       "        vertical-align: top;\n",
       "    }\n",
       "\n",
       "    .dataframe thead th {\n",
       "        text-align: right;\n",
       "    }\n",
       "</style>\n",
       "<table border=\"1\" class=\"dataframe\">\n",
       "  <thead>\n",
       "    <tr style=\"text-align: right;\">\n",
       "      <th></th>\n",
       "      <th>id</th>\n",
       "      <th>price</th>\n",
       "      <th>number_of_passengers</th>\n",
       "      <th>currency</th>\n",
       "    </tr>\n",
       "  </thead>\n",
       "  <tbody>\n",
       "    <tr>\n",
       "      <th>0</th>\n",
       "      <td>100001</td>\n",
       "      <td>97.110415</td>\n",
       "      <td>2</td>\n",
       "      <td>INR</td>\n",
       "    </tr>\n",
       "    <tr>\n",
       "      <th>1</th>\n",
       "      <td>100002</td>\n",
       "      <td>126.474094</td>\n",
       "      <td>4</td>\n",
       "      <td>USD</td>\n",
       "    </tr>\n",
       "    <tr>\n",
       "      <th>2</th>\n",
       "      <td>100003</td>\n",
       "      <td>84.942280</td>\n",
       "      <td>4</td>\n",
       "      <td>USD</td>\n",
       "    </tr>\n",
       "    <tr>\n",
       "      <th>3</th>\n",
       "      <td>100004</td>\n",
       "      <td>394.184172</td>\n",
       "      <td>4</td>\n",
       "      <td>USD</td>\n",
       "    </tr>\n",
       "    <tr>\n",
       "      <th>4</th>\n",
       "      <td>100005</td>\n",
       "      <td>348.316076</td>\n",
       "      <td>1</td>\n",
       "      <td>USD</td>\n",
       "    </tr>\n",
       "  </tbody>\n",
       "</table>\n",
       "</div>"
      ],
      "text/plain": [
       "       id       price  number_of_passengers currency\n",
       "0  100001   97.110415                     2      INR\n",
       "1  100002  126.474094                     4      USD\n",
       "2  100003   84.942280                     4      USD\n",
       "3  100004  394.184172                     4      USD\n",
       "4  100005  348.316076                     1      USD"
      ]
     },
     "execution_count": 699,
     "metadata": {},
     "output_type": "execute_result"
    }
   ],
   "source": [
    "df_subf.iloc[:,1] = y_sub\n",
    "df_subf.head()"
   ]
  },
  {
   "cell_type": "code",
   "execution_count": 700,
   "metadata": {
    "ExecuteTime": {
     "end_time": "2019-06-20T16:32:50.793850Z",
     "start_time": "2019-06-20T16:32:47.987286Z"
    }
   },
   "outputs": [
    {
     "data": {
      "text/html": [
       "<div>\n",
       "<style scoped>\n",
       "    .dataframe tbody tr th:only-of-type {\n",
       "        vertical-align: middle;\n",
       "    }\n",
       "\n",
       "    .dataframe tbody tr th {\n",
       "        vertical-align: top;\n",
       "    }\n",
       "\n",
       "    .dataframe thead th {\n",
       "        text-align: right;\n",
       "    }\n",
       "</style>\n",
       "<table border=\"1\" class=\"dataframe\">\n",
       "  <thead>\n",
       "    <tr style=\"text-align: right;\">\n",
       "      <th></th>\n",
       "      <th>id</th>\n",
       "      <th>price</th>\n",
       "      <th>number_of_passengers</th>\n",
       "      <th>currency</th>\n",
       "    </tr>\n",
       "  </thead>\n",
       "  <tbody>\n",
       "    <tr>\n",
       "      <th>0</th>\n",
       "      <td>100001</td>\n",
       "      <td>13872.916387</td>\n",
       "      <td>2</td>\n",
       "      <td>INR</td>\n",
       "    </tr>\n",
       "    <tr>\n",
       "      <th>1</th>\n",
       "      <td>100002</td>\n",
       "      <td>505.896377</td>\n",
       "      <td>4</td>\n",
       "      <td>USD</td>\n",
       "    </tr>\n",
       "    <tr>\n",
       "      <th>2</th>\n",
       "      <td>100003</td>\n",
       "      <td>339.769118</td>\n",
       "      <td>4</td>\n",
       "      <td>USD</td>\n",
       "    </tr>\n",
       "    <tr>\n",
       "      <th>3</th>\n",
       "      <td>100004</td>\n",
       "      <td>1576.736687</td>\n",
       "      <td>4</td>\n",
       "      <td>USD</td>\n",
       "    </tr>\n",
       "    <tr>\n",
       "      <th>4</th>\n",
       "      <td>100005</td>\n",
       "      <td>348.316076</td>\n",
       "      <td>1</td>\n",
       "      <td>USD</td>\n",
       "    </tr>\n",
       "  </tbody>\n",
       "</table>\n",
       "</div>"
      ],
      "text/plain": [
       "       id         price  number_of_passengers currency\n",
       "0  100001  13872.916387                     2      INR\n",
       "1  100002    505.896377                     4      USD\n",
       "2  100003    339.769118                     4      USD\n",
       "3  100004   1576.736687                     4      USD\n",
       "4  100005    348.316076                     1      USD"
      ]
     },
     "execution_count": 700,
     "metadata": {},
     "output_type": "execute_result"
    }
   ],
   "source": [
    "df_subf['price'] = (df_subf['price'] * np.float32(df_subf['number_of_passengers']))\n",
    "df_subf['price'] = df_subf.apply (lambda row: deNormailzeCurrency(row), axis=1)\n",
    "df_subf.head()"
   ]
  },
  {
   "cell_type": "code",
   "execution_count": 701,
   "metadata": {
    "ExecuteTime": {
     "end_time": "2019-06-20T16:32:51.156077Z",
     "start_time": "2019-06-20T16:32:50.795312Z"
    }
   },
   "outputs": [],
   "source": [
    "df_subf.to_csv(\"sample_submission_result.csv\", columns = ['id','price'], index = False)"
   ]
  }
 ],
 "metadata": {
  "kernelspec": {
   "display_name": "Python 3",
   "language": "python",
   "name": "python3"
  },
  "language_info": {
   "codemirror_mode": {
    "name": "ipython",
    "version": 3
   },
   "file_extension": ".py",
   "mimetype": "text/x-python",
   "name": "python",
   "nbconvert_exporter": "python",
   "pygments_lexer": "ipython3",
   "version": "3.6.8"
  }
 },
 "nbformat": 4,
 "nbformat_minor": 2
}
