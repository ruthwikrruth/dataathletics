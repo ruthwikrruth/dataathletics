{
 "cells": [
  {
   "cell_type": "code",
   "execution_count": 115,
   "metadata": {
    "ExecuteTime": {
     "end_time": "2019-06-25T09:26:18.507350Z",
     "start_time": "2019-06-25T09:26:18.467925Z"
    }
   },
   "outputs": [
    {
     "name": "stdout",
     "output_type": "stream",
     "text": [
      "The scikit-learn version is 0.20.3.\n"
     ]
    }
   ],
   "source": [
    "import pandas as pd\n",
    "import numpy as np\n",
    "import datetime\n",
    "import matplotlib.pyplot as plt   #Data visualisation libraries \n",
    "import seaborn as sns\n",
    "import sklearn\n",
    "from collections import namedtuple\n",
    "\n",
    "print('The scikit-learn version is {}.'.format(sklearn.__version__))"
   ]
  },
  {
   "cell_type": "code",
   "execution_count": 116,
   "metadata": {
    "ExecuteTime": {
     "end_time": "2019-06-25T09:26:19.045262Z",
     "start_time": "2019-06-25T09:26:18.511336Z"
    }
   },
   "outputs": [
    {
     "name": "stdout",
     "output_type": "stream",
     "text": [
      "Done\n"
     ]
    }
   ],
   "source": [
    "df_train = pd.read_csv('train.csv')\n",
    "df_test = pd.read_csv('test.csv')\n",
    "df_subf = pd.read_csv('sample_submission.csv')\n",
    "df_rates = pd.read_csv('historical_rates.csv')\n",
    "# df_rates.set_index('date', inplace=True)\n",
    "\n",
    "Rate = namedtuple('Rate', ['date', 'currency'])\n",
    "rates = {}\n",
    "\n",
    "def rateTupleFactory(x):\n",
    "    return {Rate(x['date'], x['currency']):x['rate']}\n",
    "\n",
    "df_rates.apply(lambda x: rates.update(rateTupleFactory(x)), axis=1)\n",
    "print('Done')"
   ]
  },
  {
   "cell_type": "code",
   "execution_count": 117,
   "metadata": {
    "ExecuteTime": {
     "end_time": "2019-06-25T09:26:22.005073Z",
     "start_time": "2019-06-25T09:26:19.047210Z"
    }
   },
   "outputs": [],
   "source": [
    "def normalizePrice (label):\n",
    "    if label['currency'] == 'USD':\n",
    "        return label['price']\n",
    "    elif label['currency'] == 'EUR':\n",
    "        return (label['price']*1.12)\n",
    "    elif label['currency'] == 'AUD':\n",
    "        return (label['price'] *0.7)\n",
    "    elif label['currency'] == 'HKD':\n",
    "        return (label['price']*0.13)\n",
    "    elif label['currency'] == 'INR':\n",
    "        return (label['price']*0.014)\n",
    "    elif label['currency'] == 'KRW':\n",
    "        return (label['price']*0.00085)\n",
    "    else :\n",
    "        return -1\n",
    "    \n",
    "def getConversionRate(x):\n",
    "    df = df_rates.loc[x['search_date']]\n",
    "    return df[(df['currency'] == x['currency'])].rate.values[0]\n",
    "\n",
    "# df_train['price'] = df_train.apply (lambda row: normalizePrice(row), axis=1)\n",
    "\n",
    "df_train['price'] = df_train.apply(lambda x : x['price'] * rates.get(Rate(x['search_date'], x['currency'])),\n",
    "                                   axis=1)\n",
    "\n",
    "df_train['price']=df_train['price']/df_train['number_of_passengers']"
   ]
  },
  {
   "cell_type": "code",
   "execution_count": 118,
   "metadata": {
    "ExecuteTime": {
     "end_time": "2019-06-25T09:26:22.148209Z",
     "start_time": "2019-06-25T09:26:22.008062Z"
    }
   },
   "outputs": [],
   "source": [
    "# Outliers\n",
    "df_train = df_train.drop(df_train[df_train['id'] == 51950].index)\n",
    "df_train = df_train.drop(df_train[df_train['id'] == 85045].index)\n",
    "df_train = df_train.drop(df_train[df_train['id'] == 89623].index)\n",
    "df_train = df_train.drop(df_train[df_train['id'] == 57157].index)\n",
    "df_train = df_train.drop(df_train[df_train['id'] == 56666].index)\n",
    "df_train = df_train.drop(df_train[df_train['id'] == 77202].index)\n",
    "df_train = df_train.drop(df_train[df_train['id'] == 19741].index)"
   ]
  },
  {
   "cell_type": "code",
   "execution_count": 119,
   "metadata": {
    "ExecuteTime": {
     "end_time": "2019-06-25T09:26:22.176464Z",
     "start_time": "2019-06-25T09:26:22.150608Z"
    }
   },
   "outputs": [
    {
     "data": {
      "text/html": [
       "<div>\n",
       "<style scoped>\n",
       "    .dataframe tbody tr th:only-of-type {\n",
       "        vertical-align: middle;\n",
       "    }\n",
       "\n",
       "    .dataframe tbody tr th {\n",
       "        vertical-align: top;\n",
       "    }\n",
       "\n",
       "    .dataframe thead th {\n",
       "        text-align: right;\n",
       "    }\n",
       "</style>\n",
       "<table border=\"1\" class=\"dataframe\">\n",
       "  <thead>\n",
       "    <tr style=\"text-align: right;\">\n",
       "      <th></th>\n",
       "      <th>id</th>\n",
       "      <th>search_date</th>\n",
       "      <th>origin</th>\n",
       "      <th>destination</th>\n",
       "      <th>distance</th>\n",
       "      <th>departure_date</th>\n",
       "      <th>departure_time</th>\n",
       "      <th>departure_day_of_week</th>\n",
       "      <th>advance_purchase</th>\n",
       "      <th>eft</th>\n",
       "      <th>carrier</th>\n",
       "      <th>cabin</th>\n",
       "      <th>rbd</th>\n",
       "      <th>aircraft</th>\n",
       "      <th>number_of_passengers</th>\n",
       "      <th>country</th>\n",
       "      <th>currency</th>\n",
       "      <th>price</th>\n",
       "    </tr>\n",
       "  </thead>\n",
       "  <tbody>\n",
       "    <tr>\n",
       "      <th>0</th>\n",
       "      <td>1</td>\n",
       "      <td>20181212</td>\n",
       "      <td>BOS</td>\n",
       "      <td>ORD</td>\n",
       "      <td>1390</td>\n",
       "      <td>20181230</td>\n",
       "      <td>705</td>\n",
       "      <td>Sun</td>\n",
       "      <td>18</td>\n",
       "      <td>2.850</td>\n",
       "      <td>UA</td>\n",
       "      <td>M</td>\n",
       "      <td>N</td>\n",
       "      <td>738</td>\n",
       "      <td>2</td>\n",
       "      <td>US</td>\n",
       "      <td>USD</td>\n",
       "      <td>164.200000</td>\n",
       "    </tr>\n",
       "    <tr>\n",
       "      <th>1</th>\n",
       "      <td>2</td>\n",
       "      <td>20181225</td>\n",
       "      <td>LAX</td>\n",
       "      <td>LAS</td>\n",
       "      <td>380</td>\n",
       "      <td>20181226</td>\n",
       "      <td>1455</td>\n",
       "      <td>Wed</td>\n",
       "      <td>1</td>\n",
       "      <td>1.250</td>\n",
       "      <td>AS</td>\n",
       "      <td>M</td>\n",
       "      <td>H</td>\n",
       "      <td>32S</td>\n",
       "      <td>2</td>\n",
       "      <td>GR</td>\n",
       "      <td>EUR</td>\n",
       "      <td>163.875920</td>\n",
       "    </tr>\n",
       "    <tr>\n",
       "      <th>2</th>\n",
       "      <td>3</td>\n",
       "      <td>20181220</td>\n",
       "      <td>JFK</td>\n",
       "      <td>FLL</td>\n",
       "      <td>1723</td>\n",
       "      <td>20190112</td>\n",
       "      <td>2132</td>\n",
       "      <td>Sat</td>\n",
       "      <td>23</td>\n",
       "      <td>3.117</td>\n",
       "      <td>B6</td>\n",
       "      <td>M</td>\n",
       "      <td>P</td>\n",
       "      <td>321</td>\n",
       "      <td>3</td>\n",
       "      <td>US</td>\n",
       "      <td>USD</td>\n",
       "      <td>90.200000</td>\n",
       "    </tr>\n",
       "    <tr>\n",
       "      <th>3</th>\n",
       "      <td>4</td>\n",
       "      <td>20181209</td>\n",
       "      <td>SEA</td>\n",
       "      <td>SFO</td>\n",
       "      <td>1093</td>\n",
       "      <td>20181213</td>\n",
       "      <td>950</td>\n",
       "      <td>Thu</td>\n",
       "      <td>4</td>\n",
       "      <td>2.267</td>\n",
       "      <td>AS</td>\n",
       "      <td>M</td>\n",
       "      <td>B</td>\n",
       "      <td>32S</td>\n",
       "      <td>1</td>\n",
       "      <td>AU</td>\n",
       "      <td>AUD</td>\n",
       "      <td>294.985348</td>\n",
       "    </tr>\n",
       "    <tr>\n",
       "      <th>4</th>\n",
       "      <td>5</td>\n",
       "      <td>20181231</td>\n",
       "      <td>SFO</td>\n",
       "      <td>LAX</td>\n",
       "      <td>543</td>\n",
       "      <td>20190108</td>\n",
       "      <td>835</td>\n",
       "      <td>Tue</td>\n",
       "      <td>8</td>\n",
       "      <td>1.717</td>\n",
       "      <td>AA</td>\n",
       "      <td>M</td>\n",
       "      <td>L</td>\n",
       "      <td>E75</td>\n",
       "      <td>2</td>\n",
       "      <td>AU</td>\n",
       "      <td>AUD</td>\n",
       "      <td>320.981196</td>\n",
       "    </tr>\n",
       "    <tr>\n",
       "      <th>5</th>\n",
       "      <td>6</td>\n",
       "      <td>20181214</td>\n",
       "      <td>SFO</td>\n",
       "      <td>FLL</td>\n",
       "      <td>4151</td>\n",
       "      <td>20190105</td>\n",
       "      <td>2359</td>\n",
       "      <td>Sat</td>\n",
       "      <td>22</td>\n",
       "      <td>5.283</td>\n",
       "      <td>B6</td>\n",
       "      <td>M</td>\n",
       "      <td>O</td>\n",
       "      <td>32S</td>\n",
       "      <td>2</td>\n",
       "      <td>US</td>\n",
       "      <td>USD</td>\n",
       "      <td>173.200000</td>\n",
       "    </tr>\n",
       "    <tr>\n",
       "      <th>6</th>\n",
       "      <td>7</td>\n",
       "      <td>20181229</td>\n",
       "      <td>SFO</td>\n",
       "      <td>SEA</td>\n",
       "      <td>1093</td>\n",
       "      <td>20190104</td>\n",
       "      <td>920</td>\n",
       "      <td>Fri</td>\n",
       "      <td>6</td>\n",
       "      <td>2.217</td>\n",
       "      <td>UA</td>\n",
       "      <td>M</td>\n",
       "      <td>W</td>\n",
       "      <td>739</td>\n",
       "      <td>1</td>\n",
       "      <td>NL</td>\n",
       "      <td>EUR</td>\n",
       "      <td>221.153832</td>\n",
       "    </tr>\n",
       "    <tr>\n",
       "      <th>7</th>\n",
       "      <td>8</td>\n",
       "      <td>20181221</td>\n",
       "      <td>ORD</td>\n",
       "      <td>MIA</td>\n",
       "      <td>1930</td>\n",
       "      <td>20190110</td>\n",
       "      <td>1905</td>\n",
       "      <td>Thu</td>\n",
       "      <td>20</td>\n",
       "      <td>3.117</td>\n",
       "      <td>UA</td>\n",
       "      <td>M</td>\n",
       "      <td>N</td>\n",
       "      <td>739</td>\n",
       "      <td>2</td>\n",
       "      <td>US</td>\n",
       "      <td>USD</td>\n",
       "      <td>106.200000</td>\n",
       "    </tr>\n",
       "    <tr>\n",
       "      <th>8</th>\n",
       "      <td>9</td>\n",
       "      <td>20181205</td>\n",
       "      <td>ORD</td>\n",
       "      <td>SFO</td>\n",
       "      <td>2964</td>\n",
       "      <td>20190101</td>\n",
       "      <td>1650</td>\n",
       "      <td>Tue</td>\n",
       "      <td>27</td>\n",
       "      <td>5.133</td>\n",
       "      <td>AS</td>\n",
       "      <td>M</td>\n",
       "      <td>B</td>\n",
       "      <td>32S</td>\n",
       "      <td>4</td>\n",
       "      <td>GR</td>\n",
       "      <td>EUR</td>\n",
       "      <td>331.065609</td>\n",
       "    </tr>\n",
       "    <tr>\n",
       "      <th>9</th>\n",
       "      <td>10</td>\n",
       "      <td>20181230</td>\n",
       "      <td>SFO</td>\n",
       "      <td>LAX</td>\n",
       "      <td>543</td>\n",
       "      <td>20190520</td>\n",
       "      <td>1420</td>\n",
       "      <td>Mon</td>\n",
       "      <td>141</td>\n",
       "      <td>1.583</td>\n",
       "      <td>AS</td>\n",
       "      <td>M</td>\n",
       "      <td>R</td>\n",
       "      <td>73J</td>\n",
       "      <td>1</td>\n",
       "      <td>HK</td>\n",
       "      <td>HKD</td>\n",
       "      <td>66.643497</td>\n",
       "    </tr>\n",
       "  </tbody>\n",
       "</table>\n",
       "</div>"
      ],
      "text/plain": [
       "   id  search_date origin destination  distance  departure_date  \\\n",
       "0   1     20181212    BOS         ORD      1390        20181230   \n",
       "1   2     20181225    LAX         LAS       380        20181226   \n",
       "2   3     20181220    JFK         FLL      1723        20190112   \n",
       "3   4     20181209    SEA         SFO      1093        20181213   \n",
       "4   5     20181231    SFO         LAX       543        20190108   \n",
       "5   6     20181214    SFO         FLL      4151        20190105   \n",
       "6   7     20181229    SFO         SEA      1093        20190104   \n",
       "7   8     20181221    ORD         MIA      1930        20190110   \n",
       "8   9     20181205    ORD         SFO      2964        20190101   \n",
       "9  10     20181230    SFO         LAX       543        20190520   \n",
       "\n",
       "   departure_time departure_day_of_week  advance_purchase    eft carrier  \\\n",
       "0             705                   Sun                18  2.850      UA   \n",
       "1            1455                   Wed                 1  1.250      AS   \n",
       "2            2132                   Sat                23  3.117      B6   \n",
       "3             950                   Thu                 4  2.267      AS   \n",
       "4             835                   Tue                 8  1.717      AA   \n",
       "5            2359                   Sat                22  5.283      B6   \n",
       "6             920                   Fri                 6  2.217      UA   \n",
       "7            1905                   Thu                20  3.117      UA   \n",
       "8            1650                   Tue                27  5.133      AS   \n",
       "9            1420                   Mon               141  1.583      AS   \n",
       "\n",
       "  cabin rbd aircraft  number_of_passengers country currency       price  \n",
       "0     M   N      738                     2      US      USD  164.200000  \n",
       "1     M   H      32S                     2      GR      EUR  163.875920  \n",
       "2     M   P      321                     3      US      USD   90.200000  \n",
       "3     M   B      32S                     1      AU      AUD  294.985348  \n",
       "4     M   L      E75                     2      AU      AUD  320.981196  \n",
       "5     M   O      32S                     2      US      USD  173.200000  \n",
       "6     M   W      739                     1      NL      EUR  221.153832  \n",
       "7     M   N      739                     2      US      USD  106.200000  \n",
       "8     M   B      32S                     4      GR      EUR  331.065609  \n",
       "9     M   R      73J                     1      HK      HKD   66.643497  "
      ]
     },
     "execution_count": 119,
     "metadata": {},
     "output_type": "execute_result"
    }
   ],
   "source": [
    "df_train.head(10)"
   ]
  },
  {
   "cell_type": "code",
   "execution_count": 120,
   "metadata": {
    "ExecuteTime": {
     "end_time": "2019-06-25T09:26:22.182268Z",
     "start_time": "2019-06-25T09:26:22.178148Z"
    }
   },
   "outputs": [],
   "source": [
    "y=df_train['price']"
   ]
  },
  {
   "cell_type": "code",
   "execution_count": 121,
   "metadata": {
    "ExecuteTime": {
     "end_time": "2019-06-25T09:26:23.567524Z",
     "start_time": "2019-06-25T09:26:22.184826Z"
    }
   },
   "outputs": [
    {
     "data": {
      "image/png": "[encoded data removed]",
      "text/plain": [
       "<Figure size 432x288 with 1 Axes>"
      ]
     },
     "metadata": {
      "needs_background": "light"
     },
     "output_type": "display_data"
    }
   ],
   "source": [
    "plt.scatter(np.log1p(df_train['advance_purchase']),np.log1p(df_train['price']));"
   ]
  },
  {
   "cell_type": "code",
   "execution_count": 122,
   "metadata": {
    "ExecuteTime": {
     "end_time": "2019-06-25T09:26:23.722613Z",
     "start_time": "2019-06-25T09:26:23.569742Z"
    }
   },
   "outputs": [
    {
     "data": {
      "text/html": [
       "<div>\n",
       "<style scoped>\n",
       "    .dataframe tbody tr th:only-of-type {\n",
       "        vertical-align: middle;\n",
       "    }\n",
       "\n",
       "    .dataframe tbody tr th {\n",
       "        vertical-align: top;\n",
       "    }\n",
       "\n",
       "    .dataframe thead th {\n",
       "        text-align: right;\n",
       "    }\n",
       "</style>\n",
       "<table border=\"1\" class=\"dataframe\">\n",
       "  <thead>\n",
       "    <tr style=\"text-align: right;\">\n",
       "      <th></th>\n",
       "      <th>id</th>\n",
       "      <th>search_date</th>\n",
       "      <th>origin</th>\n",
       "      <th>destination</th>\n",
       "      <th>distance</th>\n",
       "      <th>departure_date</th>\n",
       "      <th>departure_time</th>\n",
       "      <th>departure_day_of_week</th>\n",
       "      <th>advance_purchase</th>\n",
       "      <th>eft</th>\n",
       "      <th>carrier</th>\n",
       "      <th>cabin</th>\n",
       "      <th>rbd</th>\n",
       "      <th>aircraft</th>\n",
       "      <th>number_of_passengers</th>\n",
       "      <th>country</th>\n",
       "      <th>currency</th>\n",
       "    </tr>\n",
       "  </thead>\n",
       "  <tbody>\n",
       "    <tr>\n",
       "      <th>0</th>\n",
       "      <td>1</td>\n",
       "      <td>20181212</td>\n",
       "      <td>BOS</td>\n",
       "      <td>ORD</td>\n",
       "      <td>1390</td>\n",
       "      <td>20181230</td>\n",
       "      <td>705</td>\n",
       "      <td>Sun</td>\n",
       "      <td>18</td>\n",
       "      <td>2.850</td>\n",
       "      <td>UA</td>\n",
       "      <td>M</td>\n",
       "      <td>N</td>\n",
       "      <td>738</td>\n",
       "      <td>2</td>\n",
       "      <td>US</td>\n",
       "      <td>USD</td>\n",
       "    </tr>\n",
       "    <tr>\n",
       "      <th>1</th>\n",
       "      <td>2</td>\n",
       "      <td>20181225</td>\n",
       "      <td>LAX</td>\n",
       "      <td>LAS</td>\n",
       "      <td>380</td>\n",
       "      <td>20181226</td>\n",
       "      <td>1455</td>\n",
       "      <td>Wed</td>\n",
       "      <td>1</td>\n",
       "      <td>1.250</td>\n",
       "      <td>AS</td>\n",
       "      <td>M</td>\n",
       "      <td>H</td>\n",
       "      <td>32S</td>\n",
       "      <td>2</td>\n",
       "      <td>GR</td>\n",
       "      <td>EUR</td>\n",
       "    </tr>\n",
       "    <tr>\n",
       "      <th>2</th>\n",
       "      <td>3</td>\n",
       "      <td>20181220</td>\n",
       "      <td>JFK</td>\n",
       "      <td>FLL</td>\n",
       "      <td>1723</td>\n",
       "      <td>20190112</td>\n",
       "      <td>2132</td>\n",
       "      <td>Sat</td>\n",
       "      <td>23</td>\n",
       "      <td>3.117</td>\n",
       "      <td>B6</td>\n",
       "      <td>M</td>\n",
       "      <td>P</td>\n",
       "      <td>321</td>\n",
       "      <td>3</td>\n",
       "      <td>US</td>\n",
       "      <td>USD</td>\n",
       "    </tr>\n",
       "    <tr>\n",
       "      <th>3</th>\n",
       "      <td>4</td>\n",
       "      <td>20181209</td>\n",
       "      <td>SEA</td>\n",
       "      <td>SFO</td>\n",
       "      <td>1093</td>\n",
       "      <td>20181213</td>\n",
       "      <td>950</td>\n",
       "      <td>Thu</td>\n",
       "      <td>4</td>\n",
       "      <td>2.267</td>\n",
       "      <td>AS</td>\n",
       "      <td>M</td>\n",
       "      <td>B</td>\n",
       "      <td>32S</td>\n",
       "      <td>1</td>\n",
       "      <td>AU</td>\n",
       "      <td>AUD</td>\n",
       "    </tr>\n",
       "    <tr>\n",
       "      <th>4</th>\n",
       "      <td>5</td>\n",
       "      <td>20181231</td>\n",
       "      <td>SFO</td>\n",
       "      <td>LAX</td>\n",
       "      <td>543</td>\n",
       "      <td>20190108</td>\n",
       "      <td>835</td>\n",
       "      <td>Tue</td>\n",
       "      <td>8</td>\n",
       "      <td>1.717</td>\n",
       "      <td>AA</td>\n",
       "      <td>M</td>\n",
       "      <td>L</td>\n",
       "      <td>E75</td>\n",
       "      <td>2</td>\n",
       "      <td>AU</td>\n",
       "      <td>AUD</td>\n",
       "    </tr>\n",
       "    <tr>\n",
       "      <th>5</th>\n",
       "      <td>6</td>\n",
       "      <td>20181214</td>\n",
       "      <td>SFO</td>\n",
       "      <td>FLL</td>\n",
       "      <td>4151</td>\n",
       "      <td>20190105</td>\n",
       "      <td>2359</td>\n",
       "      <td>Sat</td>\n",
       "      <td>22</td>\n",
       "      <td>5.283</td>\n",
       "      <td>B6</td>\n",
       "      <td>M</td>\n",
       "      <td>O</td>\n",
       "      <td>32S</td>\n",
       "      <td>2</td>\n",
       "      <td>US</td>\n",
       "      <td>USD</td>\n",
       "    </tr>\n",
       "    <tr>\n",
       "      <th>6</th>\n",
       "      <td>7</td>\n",
       "      <td>20181229</td>\n",
       "      <td>SFO</td>\n",
       "      <td>SEA</td>\n",
       "      <td>1093</td>\n",
       "      <td>20190104</td>\n",
       "      <td>920</td>\n",
       "      <td>Fri</td>\n",
       "      <td>6</td>\n",
       "      <td>2.217</td>\n",
       "      <td>UA</td>\n",
       "      <td>M</td>\n",
       "      <td>W</td>\n",
       "      <td>739</td>\n",
       "      <td>1</td>\n",
       "      <td>NL</td>\n",
       "      <td>EUR</td>\n",
       "    </tr>\n",
       "    <tr>\n",
       "      <th>7</th>\n",
       "      <td>8</td>\n",
       "      <td>20181221</td>\n",
       "      <td>ORD</td>\n",
       "      <td>MIA</td>\n",
       "      <td>1930</td>\n",
       "      <td>20190110</td>\n",
       "      <td>1905</td>\n",
       "      <td>Thu</td>\n",
       "      <td>20</td>\n",
       "      <td>3.117</td>\n",
       "      <td>UA</td>\n",
       "      <td>M</td>\n",
       "      <td>N</td>\n",
       "      <td>739</td>\n",
       "      <td>2</td>\n",
       "      <td>US</td>\n",
       "      <td>USD</td>\n",
       "    </tr>\n",
       "    <tr>\n",
       "      <th>8</th>\n",
       "      <td>9</td>\n",
       "      <td>20181205</td>\n",
       "      <td>ORD</td>\n",
       "      <td>SFO</td>\n",
       "      <td>2964</td>\n",
       "      <td>20190101</td>\n",
       "      <td>1650</td>\n",
       "      <td>Tue</td>\n",
       "      <td>27</td>\n",
       "      <td>5.133</td>\n",
       "      <td>AS</td>\n",
       "      <td>M</td>\n",
       "      <td>B</td>\n",
       "      <td>32S</td>\n",
       "      <td>4</td>\n",
       "      <td>GR</td>\n",
       "      <td>EUR</td>\n",
       "    </tr>\n",
       "    <tr>\n",
       "      <th>9</th>\n",
       "      <td>10</td>\n",
       "      <td>20181230</td>\n",
       "      <td>SFO</td>\n",
       "      <td>LAX</td>\n",
       "      <td>543</td>\n",
       "      <td>20190520</td>\n",
       "      <td>1420</td>\n",
       "      <td>Mon</td>\n",
       "      <td>141</td>\n",
       "      <td>1.583</td>\n",
       "      <td>AS</td>\n",
       "      <td>M</td>\n",
       "      <td>R</td>\n",
       "      <td>73J</td>\n",
       "      <td>1</td>\n",
       "      <td>HK</td>\n",
       "      <td>HKD</td>\n",
       "    </tr>\n",
       "  </tbody>\n",
       "</table>\n",
       "</div>"
      ],
      "text/plain": [
       "   id  search_date origin destination  distance  departure_date  \\\n",
       "0   1     20181212    BOS         ORD      1390        20181230   \n",
       "1   2     20181225    LAX         LAS       380        20181226   \n",
       "2   3     20181220    JFK         FLL      1723        20190112   \n",
       "3   4     20181209    SEA         SFO      1093        20181213   \n",
       "4   5     20181231    SFO         LAX       543        20190108   \n",
       "5   6     20181214    SFO         FLL      4151        20190105   \n",
       "6   7     20181229    SFO         SEA      1093        20190104   \n",
       "7   8     20181221    ORD         MIA      1930        20190110   \n",
       "8   9     20181205    ORD         SFO      2964        20190101   \n",
       "9  10     20181230    SFO         LAX       543        20190520   \n",
       "\n",
       "   departure_time departure_day_of_week  advance_purchase    eft carrier  \\\n",
       "0             705                   Sun                18  2.850      UA   \n",
       "1            1455                   Wed                 1  1.250      AS   \n",
       "2            2132                   Sat                23  3.117      B6   \n",
       "3             950                   Thu                 4  2.267      AS   \n",
       "4             835                   Tue                 8  1.717      AA   \n",
       "5            2359                   Sat                22  5.283      B6   \n",
       "6             920                   Fri                 6  2.217      UA   \n",
       "7            1905                   Thu                20  3.117      UA   \n",
       "8            1650                   Tue                27  5.133      AS   \n",
       "9            1420                   Mon               141  1.583      AS   \n",
       "\n",
       "  cabin rbd aircraft  number_of_passengers country currency  \n",
       "0     M   N      738                     2      US      USD  \n",
       "1     M   H      32S                     2      GR      EUR  \n",
       "2     M   P      321                     3      US      USD  \n",
       "3     M   B      32S                     1      AU      AUD  \n",
       "4     M   L      E75                     2      AU      AUD  \n",
       "5     M   O      32S                     2      US      USD  \n",
       "6     M   W      739                     1      NL      EUR  \n",
       "7     M   N      739                     2      US      USD  \n",
       "8     M   B      32S                     4      GR      EUR  \n",
       "9     M   R      73J                     1      HK      HKD  "
      ]
     },
     "execution_count": 122,
     "metadata": {},
     "output_type": "execute_result"
    }
   ],
   "source": [
    "df_train = df_train.drop(['price'],axis=1)\n",
    "df = pd.concat([df_train, df_test],sort=False).reset_index(drop=True)\n",
    "df.head(10)"
   ]
  },
  {
   "cell_type": "code",
   "execution_count": 123,
   "metadata": {
    "ExecuteTime": {
     "end_time": "2019-06-25T09:26:23.731798Z",
     "start_time": "2019-06-25T09:26:23.724888Z"
    }
   },
   "outputs": [],
   "source": [
    "df_subf['number_of_passengers'] = df_test['number_of_passengers']\n",
    "df_subf['currency'] = df_test['currency']\n",
    "df_subf['search_date'] = df_test['search_date']\n"
   ]
  },
  {
   "cell_type": "code",
   "execution_count": 124,
   "metadata": {
    "ExecuteTime": {
     "end_time": "2019-06-25T09:26:24.824001Z",
     "start_time": "2019-06-25T09:26:23.733894Z"
    }
   },
   "outputs": [],
   "source": [
    "df['departure_date'] = pd.to_datetime(df['departure_date'], format='%Y%m%d',exact=True).dt.normalize()\n",
    "df['year'] = df.departure_date.dt.year.astype(str)\n",
    "df['week'] = df.departure_date.dt.week.astype(str)\n",
    "df['month'] = df.departure_date.dt.month.astype(str)\n",
    "df['day'] = df.departure_date.dt.day.astype(str)\n",
    "\n",
    "# Encode depature time\n",
    "df['departure_time'] = df['departure_time'].apply(lambda x: int(x / 600)).astype(str)\n",
    "\n",
    "df['origin_destination'] = df_train['origin'] + '-' + df_train['destination']\n",
    "df['is_weekend'] = df['departure_day_of_week'].apply(lambda x: x in ['Fri', 'Sat', 'Sun']).astype(str)\n",
    "df['advance_purchase'] =  df['advance_purchase'].apply(lambda x: x if x < 90 else 90)\n",
    "df['advance_purchase']= np.log1p(df['advance_purchase'])\n",
    "\n",
    "\n",
    "# df['distance']= np.log1p(df['distance'])\n",
    "y= np.log1p(y)\n"
   ]
  },
  {
   "cell_type": "code",
   "execution_count": 125,
   "metadata": {
    "ExecuteTime": {
     "end_time": "2019-06-25T09:26:25.281170Z",
     "start_time": "2019-06-25T09:26:24.826073Z"
    }
   },
   "outputs": [
    {
     "data": {
      "text/plain": [
       "<matplotlib.axes._subplots.AxesSubplot at 0x1a5d59ceb8>"
      ]
     },
     "execution_count": 125,
     "metadata": {},
     "output_type": "execute_result"
    },
    {
     "data": {
      "image/png": "[encoded data removed]",
      "text/plain": [
       "<Figure size 432x288 with 1 Axes>"
      ]
     },
     "metadata": {
      "needs_background": "light"
     },
     "output_type": "display_data"
    }
   ],
   "source": [
    "sns.distplot(y)\n"
   ]
  },
  {
   "cell_type": "code",
   "execution_count": 126,
   "metadata": {
    "ExecuteTime": {
     "end_time": "2019-06-25T09:26:25.286772Z",
     "start_time": "2019-06-25T09:26:25.283483Z"
    }
   },
   "outputs": [],
   "source": [
    "# df = df.sort_values(['origin_destination'], ascending=True)"
   ]
  },
  {
   "cell_type": "code",
   "execution_count": 127,
   "metadata": {
    "ExecuteTime": {
     "end_time": "2019-06-25T09:26:25.436090Z",
     "start_time": "2019-06-25T09:26:25.291354Z"
    }
   },
   "outputs": [
    {
     "data": {
      "text/html": [
       "<div>\n",
       "<style scoped>\n",
       "    .dataframe tbody tr th:only-of-type {\n",
       "        vertical-align: middle;\n",
       "    }\n",
       "\n",
       "    .dataframe tbody tr th {\n",
       "        vertical-align: top;\n",
       "    }\n",
       "\n",
       "    .dataframe thead th {\n",
       "        text-align: right;\n",
       "    }\n",
       "</style>\n",
       "<table border=\"1\" class=\"dataframe\">\n",
       "  <thead>\n",
       "    <tr style=\"text-align: right;\">\n",
       "      <th></th>\n",
       "      <th>id</th>\n",
       "      <th>distance</th>\n",
       "      <th>departure_date</th>\n",
       "      <th>departure_time</th>\n",
       "      <th>advance_purchase</th>\n",
       "      <th>eft</th>\n",
       "      <th>carrier</th>\n",
       "      <th>cabin</th>\n",
       "      <th>rbd</th>\n",
       "      <th>aircraft</th>\n",
       "      <th>country</th>\n",
       "      <th>currency</th>\n",
       "      <th>year</th>\n",
       "      <th>week</th>\n",
       "      <th>month</th>\n",
       "      <th>day</th>\n",
       "      <th>origin_destination</th>\n",
       "      <th>is_weekend</th>\n",
       "    </tr>\n",
       "  </thead>\n",
       "  <tbody>\n",
       "    <tr>\n",
       "      <th>0</th>\n",
       "      <td>1</td>\n",
       "      <td>1390</td>\n",
       "      <td>2018-12-30</td>\n",
       "      <td>1</td>\n",
       "      <td>2.944439</td>\n",
       "      <td>2.850</td>\n",
       "      <td>UA</td>\n",
       "      <td>M</td>\n",
       "      <td>N</td>\n",
       "      <td>738</td>\n",
       "      <td>US</td>\n",
       "      <td>USD</td>\n",
       "      <td>2018</td>\n",
       "      <td>52</td>\n",
       "      <td>12</td>\n",
       "      <td>30</td>\n",
       "      <td>BOS-ORD</td>\n",
       "      <td>True</td>\n",
       "    </tr>\n",
       "    <tr>\n",
       "      <th>1</th>\n",
       "      <td>2</td>\n",
       "      <td>380</td>\n",
       "      <td>2018-12-26</td>\n",
       "      <td>2</td>\n",
       "      <td>0.693147</td>\n",
       "      <td>1.250</td>\n",
       "      <td>AS</td>\n",
       "      <td>M</td>\n",
       "      <td>H</td>\n",
       "      <td>32S</td>\n",
       "      <td>GR</td>\n",
       "      <td>EUR</td>\n",
       "      <td>2018</td>\n",
       "      <td>52</td>\n",
       "      <td>12</td>\n",
       "      <td>26</td>\n",
       "      <td>LAX-LAS</td>\n",
       "      <td>False</td>\n",
       "    </tr>\n",
       "    <tr>\n",
       "      <th>2</th>\n",
       "      <td>3</td>\n",
       "      <td>1723</td>\n",
       "      <td>2019-01-12</td>\n",
       "      <td>3</td>\n",
       "      <td>3.178054</td>\n",
       "      <td>3.117</td>\n",
       "      <td>B6</td>\n",
       "      <td>M</td>\n",
       "      <td>P</td>\n",
       "      <td>321</td>\n",
       "      <td>US</td>\n",
       "      <td>USD</td>\n",
       "      <td>2019</td>\n",
       "      <td>2</td>\n",
       "      <td>1</td>\n",
       "      <td>12</td>\n",
       "      <td>JFK-FLL</td>\n",
       "      <td>True</td>\n",
       "    </tr>\n",
       "    <tr>\n",
       "      <th>3</th>\n",
       "      <td>4</td>\n",
       "      <td>1093</td>\n",
       "      <td>2018-12-13</td>\n",
       "      <td>1</td>\n",
       "      <td>1.609438</td>\n",
       "      <td>2.267</td>\n",
       "      <td>AS</td>\n",
       "      <td>M</td>\n",
       "      <td>B</td>\n",
       "      <td>32S</td>\n",
       "      <td>AU</td>\n",
       "      <td>AUD</td>\n",
       "      <td>2018</td>\n",
       "      <td>50</td>\n",
       "      <td>12</td>\n",
       "      <td>13</td>\n",
       "      <td>SEA-SFO</td>\n",
       "      <td>False</td>\n",
       "    </tr>\n",
       "    <tr>\n",
       "      <th>4</th>\n",
       "      <td>5</td>\n",
       "      <td>543</td>\n",
       "      <td>2019-01-08</td>\n",
       "      <td>1</td>\n",
       "      <td>2.197225</td>\n",
       "      <td>1.717</td>\n",
       "      <td>AA</td>\n",
       "      <td>M</td>\n",
       "      <td>L</td>\n",
       "      <td>E75</td>\n",
       "      <td>AU</td>\n",
       "      <td>AUD</td>\n",
       "      <td>2019</td>\n",
       "      <td>2</td>\n",
       "      <td>1</td>\n",
       "      <td>8</td>\n",
       "      <td>SFO-LAX</td>\n",
       "      <td>False</td>\n",
       "    </tr>\n",
       "  </tbody>\n",
       "</table>\n",
       "</div>"
      ],
      "text/plain": [
       "   id  distance departure_date departure_time  advance_purchase    eft  \\\n",
       "0   1      1390     2018-12-30              1          2.944439  2.850   \n",
       "1   2       380     2018-12-26              2          0.693147  1.250   \n",
       "2   3      1723     2019-01-12              3          3.178054  3.117   \n",
       "3   4      1093     2018-12-13              1          1.609438  2.267   \n",
       "4   5       543     2019-01-08              1          2.197225  1.717   \n",
       "\n",
       "  carrier cabin rbd aircraft country currency  year week month day  \\\n",
       "0      UA     M   N      738      US      USD  2018   52    12  30   \n",
       "1      AS     M   H      32S      GR      EUR  2018   52    12  26   \n",
       "2      B6     M   P      321      US      USD  2019    2     1  12   \n",
       "3      AS     M   B      32S      AU      AUD  2018   50    12  13   \n",
       "4      AA     M   L      E75      AU      AUD  2019    2     1   8   \n",
       "\n",
       "  origin_destination is_weekend  \n",
       "0            BOS-ORD       True  \n",
       "1            LAX-LAS      False  \n",
       "2            JFK-FLL       True  \n",
       "3            SEA-SFO      False  \n",
       "4            SFO-LAX      False  "
      ]
     },
     "execution_count": 127,
     "metadata": {},
     "output_type": "execute_result"
    }
   ],
   "source": [
    "df = df.drop([ 'search_date', 'origin', 'destination', 'departure_day_of_week',\n",
    "'number_of_passengers'], axis = 1)\n",
    "df.head()\n"
   ]
  },
  {
   "cell_type": "code",
   "execution_count": 128,
   "metadata": {
    "ExecuteTime": {
     "end_time": "2019-06-25T09:26:25.983712Z",
     "start_time": "2019-06-25T09:26:25.439113Z"
    },
    "scrolled": false
   },
   "outputs": [
    {
     "data": {
      "text/html": [
       "<div>\n",
       "<style scoped>\n",
       "    .dataframe tbody tr th:only-of-type {\n",
       "        vertical-align: middle;\n",
       "    }\n",
       "\n",
       "    .dataframe tbody tr th {\n",
       "        vertical-align: top;\n",
       "    }\n",
       "\n",
       "    .dataframe thead th {\n",
       "        text-align: right;\n",
       "    }\n",
       "</style>\n",
       "<table border=\"1\" class=\"dataframe\">\n",
       "  <thead>\n",
       "    <tr style=\"text-align: right;\">\n",
       "      <th></th>\n",
       "      <th>id</th>\n",
       "      <th>distance</th>\n",
       "      <th>departure_date</th>\n",
       "      <th>advance_purchase</th>\n",
       "      <th>eft</th>\n",
       "      <th>departure_time_0</th>\n",
       "      <th>departure_time_1</th>\n",
       "      <th>departure_time_2</th>\n",
       "      <th>departure_time_3</th>\n",
       "      <th>carrier_AA</th>\n",
       "      <th>...</th>\n",
       "      <th>origin_destination_SFO-FLL</th>\n",
       "      <th>origin_destination_SFO-JFK</th>\n",
       "      <th>origin_destination_SFO-LAS</th>\n",
       "      <th>origin_destination_SFO-LAX</th>\n",
       "      <th>origin_destination_SFO-MCO</th>\n",
       "      <th>origin_destination_SFO-MIA</th>\n",
       "      <th>origin_destination_SFO-ORD</th>\n",
       "      <th>origin_destination_SFO-SEA</th>\n",
       "      <th>is_weekend_False</th>\n",
       "      <th>is_weekend_True</th>\n",
       "    </tr>\n",
       "  </thead>\n",
       "  <tbody>\n",
       "    <tr>\n",
       "      <th>0</th>\n",
       "      <td>1</td>\n",
       "      <td>1390</td>\n",
       "      <td>2018-12-30</td>\n",
       "      <td>2.944439</td>\n",
       "      <td>2.850</td>\n",
       "      <td>0</td>\n",
       "      <td>1</td>\n",
       "      <td>0</td>\n",
       "      <td>0</td>\n",
       "      <td>0</td>\n",
       "      <td>...</td>\n",
       "      <td>0</td>\n",
       "      <td>0</td>\n",
       "      <td>0</td>\n",
       "      <td>0</td>\n",
       "      <td>0</td>\n",
       "      <td>0</td>\n",
       "      <td>0</td>\n",
       "      <td>0</td>\n",
       "      <td>0</td>\n",
       "      <td>1</td>\n",
       "    </tr>\n",
       "    <tr>\n",
       "      <th>1</th>\n",
       "      <td>2</td>\n",
       "      <td>380</td>\n",
       "      <td>2018-12-26</td>\n",
       "      <td>0.693147</td>\n",
       "      <td>1.250</td>\n",
       "      <td>0</td>\n",
       "      <td>0</td>\n",
       "      <td>1</td>\n",
       "      <td>0</td>\n",
       "      <td>0</td>\n",
       "      <td>...</td>\n",
       "      <td>0</td>\n",
       "      <td>0</td>\n",
       "      <td>0</td>\n",
       "      <td>0</td>\n",
       "      <td>0</td>\n",
       "      <td>0</td>\n",
       "      <td>0</td>\n",
       "      <td>0</td>\n",
       "      <td>1</td>\n",
       "      <td>0</td>\n",
       "    </tr>\n",
       "    <tr>\n",
       "      <th>2</th>\n",
       "      <td>3</td>\n",
       "      <td>1723</td>\n",
       "      <td>2019-01-12</td>\n",
       "      <td>3.178054</td>\n",
       "      <td>3.117</td>\n",
       "      <td>0</td>\n",
       "      <td>0</td>\n",
       "      <td>0</td>\n",
       "      <td>1</td>\n",
       "      <td>0</td>\n",
       "      <td>...</td>\n",
       "      <td>0</td>\n",
       "      <td>0</td>\n",
       "      <td>0</td>\n",
       "      <td>0</td>\n",
       "      <td>0</td>\n",
       "      <td>0</td>\n",
       "      <td>0</td>\n",
       "      <td>0</td>\n",
       "      <td>0</td>\n",
       "      <td>1</td>\n",
       "    </tr>\n",
       "    <tr>\n",
       "      <th>3</th>\n",
       "      <td>4</td>\n",
       "      <td>1093</td>\n",
       "      <td>2018-12-13</td>\n",
       "      <td>1.609438</td>\n",
       "      <td>2.267</td>\n",
       "      <td>0</td>\n",
       "      <td>1</td>\n",
       "      <td>0</td>\n",
       "      <td>0</td>\n",
       "      <td>0</td>\n",
       "      <td>...</td>\n",
       "      <td>0</td>\n",
       "      <td>0</td>\n",
       "      <td>0</td>\n",
       "      <td>0</td>\n",
       "      <td>0</td>\n",
       "      <td>0</td>\n",
       "      <td>0</td>\n",
       "      <td>0</td>\n",
       "      <td>1</td>\n",
       "      <td>0</td>\n",
       "    </tr>\n",
       "    <tr>\n",
       "      <th>4</th>\n",
       "      <td>5</td>\n",
       "      <td>543</td>\n",
       "      <td>2019-01-08</td>\n",
       "      <td>2.197225</td>\n",
       "      <td>1.717</td>\n",
       "      <td>0</td>\n",
       "      <td>1</td>\n",
       "      <td>0</td>\n",
       "      <td>0</td>\n",
       "      <td>1</td>\n",
       "      <td>...</td>\n",
       "      <td>0</td>\n",
       "      <td>0</td>\n",
       "      <td>0</td>\n",
       "      <td>1</td>\n",
       "      <td>0</td>\n",
       "      <td>0</td>\n",
       "      <td>0</td>\n",
       "      <td>0</td>\n",
       "      <td>1</td>\n",
       "      <td>0</td>\n",
       "    </tr>\n",
       "  </tbody>\n",
       "</table>\n",
       "<p>5 rows × 354 columns</p>\n",
       "</div>"
      ],
      "text/plain": [
       "   id  distance departure_date  advance_purchase    eft  departure_time_0  \\\n",
       "0   1      1390     2018-12-30          2.944439  2.850                 0   \n",
       "1   2       380     2018-12-26          0.693147  1.250                 0   \n",
       "2   3      1723     2019-01-12          3.178054  3.117                 0   \n",
       "3   4      1093     2018-12-13          1.609438  2.267                 0   \n",
       "4   5       543     2019-01-08          2.197225  1.717                 0   \n",
       "\n",
       "   departure_time_1  departure_time_2  departure_time_3  carrier_AA  ...  \\\n",
       "0                 1                 0                 0           0  ...   \n",
       "1                 0                 1                 0           0  ...   \n",
       "2                 0                 0                 1           0  ...   \n",
       "3                 1                 0                 0           0  ...   \n",
       "4                 1                 0                 0           1  ...   \n",
       "\n",
       "   origin_destination_SFO-FLL  origin_destination_SFO-JFK  \\\n",
       "0                           0                           0   \n",
       "1                           0                           0   \n",
       "2                           0                           0   \n",
       "3                           0                           0   \n",
       "4                           0                           0   \n",
       "\n",
       "   origin_destination_SFO-LAS  origin_destination_SFO-LAX  \\\n",
       "0                           0                           0   \n",
       "1                           0                           0   \n",
       "2                           0                           0   \n",
       "3                           0                           0   \n",
       "4                           0                           1   \n",
       "\n",
       "   origin_destination_SFO-MCO  origin_destination_SFO-MIA  \\\n",
       "0                           0                           0   \n",
       "1                           0                           0   \n",
       "2                           0                           0   \n",
       "3                           0                           0   \n",
       "4                           0                           0   \n",
       "\n",
       "   origin_destination_SFO-ORD  origin_destination_SFO-SEA  is_weekend_False  \\\n",
       "0                           0                           0                 0   \n",
       "1                           0                           0                 1   \n",
       "2                           0                           0                 0   \n",
       "3                           0                           0                 1   \n",
       "4                           0                           0                 1   \n",
       "\n",
       "   is_weekend_True  \n",
       "0                1  \n",
       "1                0  \n",
       "2                1  \n",
       "3                0  \n",
       "4                0  \n",
       "\n",
       "[5 rows x 354 columns]"
      ]
     },
     "execution_count": 128,
     "metadata": {},
     "output_type": "execute_result"
    }
   ],
   "source": [
    "df = pd.get_dummies(df)\n",
    "df.head()"
   ]
  },
  {
   "cell_type": "code",
   "execution_count": 129,
   "metadata": {
    "ExecuteTime": {
     "end_time": "2019-06-25T09:26:26.204571Z",
     "start_time": "2019-06-25T09:26:25.985877Z"
    }
   },
   "outputs": [],
   "source": [
    "df = df.drop(['id'], axis = 1)\n",
    "X = df.iloc[:len(y),:]\n",
    "X_sub = df.iloc[len(y):,:]\n"
   ]
  },
  {
   "cell_type": "code",
   "execution_count": 130,
   "metadata": {
    "ExecuteTime": {
     "end_time": "2019-06-25T09:26:26.210072Z",
     "start_time": "2019-06-25T09:26:26.206409Z"
    }
   },
   "outputs": [],
   "source": [
    "def mean_absolute_percentage_error(y_true, y_pred): \n",
    "    y_true, y_pred = np.array(np.expm1(y_true)), np.array(np.expm1(y_pred))\n",
    "    return np.mean(np.abs((y_true - y_pred) / y_true)) * 100"
   ]
  },
  {
   "cell_type": "code",
   "execution_count": 131,
   "metadata": {
    "ExecuteTime": {
     "end_time": "2019-06-25T09:26:26.216053Z",
     "start_time": "2019-06-25T09:26:26.212296Z"
    }
   },
   "outputs": [],
   "source": [
    "from sklearn.model_selection import train_test_split"
   ]
  },
  {
   "cell_type": "code",
   "execution_count": 132,
   "metadata": {
    "ExecuteTime": {
     "end_time": "2019-06-25T09:26:26.387032Z",
     "start_time": "2019-06-25T09:26:26.218685Z"
    }
   },
   "outputs": [
    {
     "data": {
      "text/plain": [
       "(79994, 353)"
      ]
     },
     "execution_count": 132,
     "metadata": {},
     "output_type": "execute_result"
    }
   ],
   "source": [
    "X_train, X_test, y_train, y_test = train_test_split(X, y, test_size=0.2, random_state=11)\n",
    "X_train.shape"
   ]
  },
  {
   "cell_type": "code",
   "execution_count": 133,
   "metadata": {
    "ExecuteTime": {
     "end_time": "2019-06-25T09:26:26.433766Z",
     "start_time": "2019-06-25T09:26:26.389107Z"
    }
   },
   "outputs": [],
   "source": [
    "X_train = X_train.reset_index(drop=True)\n",
    "y_train = y_train.reset_index(drop=True)"
   ]
  },
  {
   "cell_type": "code",
   "execution_count": 134,
   "metadata": {
    "ExecuteTime": {
     "end_time": "2019-06-25T09:26:41.195565Z",
     "start_time": "2019-06-25T09:26:26.436697Z"
    }
   },
   "outputs": [
    {
     "name": "stdout",
     "output_type": "stream",
     "text": [
      "datetime64[ns]\n"
     ]
    }
   ],
   "source": [
    "print(X_train['departure_date'].dtype)\n",
    "date_from = np.datetime64('2019-07-15T00:00:00')\n",
    "date_to = np.datetime64('2019-11-30T00:00:00')\n",
    "\n",
    "X_train_dupes = []\n",
    "y_train_dupes = []\n",
    "\n",
    "for index, row in X_train.iterrows():\n",
    "    if (row['departure_date'] > date_from) and (row['departure_date'] < date_to):\n",
    "        X_train_dupes.append(row)\n",
    "        y_train_dupes.append(y_train.iloc[index])    "
   ]
  },
  {
   "cell_type": "code",
   "execution_count": 135,
   "metadata": {
    "ExecuteTime": {
     "end_time": "2019-06-25T09:26:41.313151Z",
     "start_time": "2019-06-25T09:26:41.197369Z"
    }
   },
   "outputs": [],
   "source": [
    "X_train_dupes = pd.DataFrame(X_train_dupes)\n",
    "y_train_dupes = pd.Series(y_train_dupes)"
   ]
  },
  {
   "cell_type": "code",
   "execution_count": 136,
   "metadata": {
    "ExecuteTime": {
     "end_time": "2019-06-25T09:26:41.380612Z",
     "start_time": "2019-06-25T09:26:41.314962Z"
    }
   },
   "outputs": [],
   "source": [
    "# X_train = X_train.append(X_train_dupes)\n",
    "# y_train = y_train.append(y_train_dupes)\n",
    "\n",
    "# y_train.shape\n",
    "\n",
    "X_train = X_train.drop(['departure_date'], axis=1)\n",
    "X_test = X_test.drop(['departure_date'], axis=1)\n",
    "X_sub = X_sub.drop(['departure_date'], axis=1)"
   ]
  },
  {
   "cell_type": "code",
   "execution_count": 137,
   "metadata": {
    "ExecuteTime": {
     "end_time": "2019-06-25T09:35:03.226515Z",
     "start_time": "2019-06-25T09:26:41.382244Z"
    }
   },
   "outputs": [],
   "source": [
    "from sklearn.tree import DecisionTreeRegressor\n",
    "from sklearn.ensemble import AdaBoostRegressor\n",
    "dt_model = DecisionTreeRegressor(max_features='auto',max_depth=None)\n",
    "ab_model = AdaBoostRegressor(dt_model, n_estimators=60, random_state=None, learning_rate=.8)\n",
    "ab_model.fit(X_train, y_train);"
   ]
  },
  {
   "cell_type": "code",
   "execution_count": 138,
   "metadata": {
    "ExecuteTime": {
     "end_time": "2019-06-25T09:35:03.235420Z",
     "start_time": "2019-06-25T09:26:18.491Z"
    }
   },
   "outputs": [
    {
     "name": "stdout",
     "output_type": "stream",
     "text": [
      "9.03761812297824\n"
     ]
    },
    {
     "data": {
      "text/plain": [
       "<matplotlib.collections.PathCollection at 0x1a5daa49b0>"
      ]
     },
     "execution_count": 138,
     "metadata": {},
     "output_type": "execute_result"
    },
    {
     "data": {
      "image/png": "[encoded data removed]",
      "text/plain": [
       "<Figure size 432x288 with 1 Axes>"
      ]
     },
     "metadata": {
      "needs_background": "light"
     },
     "output_type": "display_data"
    }
   ],
   "source": [
    "ab_predictions = ab_model.predict(np.array(X_test))\n",
    "print(mean_absolute_percentage_error(y_test, ab_predictions))\n",
    "plt.scatter(np.expm1(y_test),np.expm1(ab_predictions))"
   ]
  },
  {
   "cell_type": "code",
   "execution_count": 139,
   "metadata": {
    "ExecuteTime": {
     "end_time": "2019-06-25T09:35:03.238819Z",
     "start_time": "2019-06-25T09:26:18.492Z"
    },
    "scrolled": true
   },
   "outputs": [],
   "source": [
    "# from sklearn.ensemble import ExtraTreesRegressor\n",
    "# et_model = ExtraTreesRegressor(n_estimators=1,\n",
    "#                                max_features='auto',\n",
    "#                                max_depth=None,\n",
    "#                                n_jobs=-1,\n",
    "#                                verbose=1)\n",
    "# abet_model = AdaBoostRegressor(et_model, n_estimators=50, random_state=None, learning_rate=0.5)\n",
    "# abet_model.fit(X_train, y_train);"
   ]
  },
  {
   "cell_type": "code",
   "execution_count": 140,
   "metadata": {
    "ExecuteTime": {
     "end_time": "2019-06-25T09:35:03.242987Z",
     "start_time": "2019-06-25T09:26:18.494Z"
    }
   },
   "outputs": [],
   "source": [
    "# abet_predictions = abet_model.predict(np.array(X_test))\n",
    "# print('Adaboost with ExtraTreesRegressor')\n",
    "# print(mean_absolute_percentage_error(y_test, abet_predictions))\n",
    "# plt.scatter(np.expm1(y_test),np.expm1(abet_predictions))"
   ]
  },
  {
   "cell_type": "code",
   "execution_count": 141,
   "metadata": {
    "ExecuteTime": {
     "end_time": "2019-06-25T09:35:03.248147Z",
     "start_time": "2019-06-25T09:26:18.496Z"
    }
   },
   "outputs": [],
   "source": [
    "# from sklearn.ensemble import RandomForestRegressor\n",
    "\n",
    "# rf_model = RandomForestRegressor(bootstrap=True, criterion='mse', max_depth=None,\n",
    "#            max_features='auto', max_leaf_nodes=None,\n",
    "#            min_impurity_decrease=0.0, min_impurity_split=None,\n",
    "#            min_samples_leaf=1, n_estimators=100, min_samples_split=2,\n",
    "#            min_weight_fraction_leaf=0.0, n_jobs=-1,\n",
    "#            oob_score=False, random_state=None, verbose=1, warm_start=False)\n",
    "# rf_model.fit(X_train, y_train);\n",
    "# rf_predictions = rf_model.predict(np.array(X_test))\n",
    "# print(mean_absolute_percentage_error(y_test, rf_predictions))\n",
    "# plt.scatter(np.expm1(y_test),np.expm1(rf_predictions))"
   ]
  },
  {
   "cell_type": "code",
   "execution_count": 142,
   "metadata": {
    "ExecuteTime": {
     "end_time": "2019-06-25T09:35:03.252525Z",
     "start_time": "2019-06-25T09:26:18.498Z"
    }
   },
   "outputs": [],
   "source": [
    "# abrf_model = AdaBoostRegressor(rf_model, n_estimators=75, random_state=None)\n",
    "# abrf_model.fit(X_train, y_train);"
   ]
  },
  {
   "cell_type": "code",
   "execution_count": 143,
   "metadata": {
    "ExecuteTime": {
     "end_time": "2019-06-25T09:35:03.256876Z",
     "start_time": "2019-06-25T09:26:18.500Z"
    }
   },
   "outputs": [],
   "source": [
    "# lr_model = LinearRegression()\n",
    "# lr_model.fit(X_train,y_train)\n",
    "# lr_model.score(X_test, y_test)"
   ]
  },
  {
   "cell_type": "code",
   "execution_count": 144,
   "metadata": {
    "ExecuteTime": {
     "end_time": "2019-06-25T09:35:03.260805Z",
     "start_time": "2019-06-25T09:26:18.502Z"
    }
   },
   "outputs": [],
   "source": [
    "# abrf_predictions = abrf_model.predict(np.array(X_test))\n",
    "# print(mean_absolute_percentage_error(y_test, abrf_predictions))\n",
    "# plt.scatter(np.expm1(y_test),np.expm1(abrf_predictions))"
   ]
  },
  {
   "cell_type": "code",
   "execution_count": 145,
   "metadata": {
    "ExecuteTime": {
     "end_time": "2019-06-25T09:35:03.264962Z",
     "start_time": "2019-06-25T09:26:18.504Z"
    }
   },
   "outputs": [],
   "source": [
    "# from sklearn.ensemble import VotingRegressor\n",
    "# vr_model = VotingRegressor(estimators=[('ab', ab_model), ('rf', rf_model)])\n",
    "# vr_model = vr_model.fit(X_train, y_train)"
   ]
  },
  {
   "cell_type": "code",
   "execution_count": 146,
   "metadata": {
    "ExecuteTime": {
     "end_time": "2019-06-25T09:35:03.270789Z",
     "start_time": "2019-06-25T09:26:18.506Z"
    }
   },
   "outputs": [],
   "source": [
    "# predictions = vr_model.predict(np.array(X_test))\n",
    "# predictions"
   ]
  },
  {
   "cell_type": "code",
   "execution_count": 147,
   "metadata": {
    "ExecuteTime": {
     "end_time": "2019-06-25T09:35:03.276374Z",
     "start_time": "2019-06-25T09:26:18.508Z"
    },
    "scrolled": false
   },
   "outputs": [],
   "source": [
    "# print(mean_absolute_percentage_error(y_test, predictions))\n",
    "# plt.scatter(np.expm1(y_test),np.expm1(predictions))"
   ]
  },
  {
   "cell_type": "code",
   "execution_count": 148,
   "metadata": {
    "ExecuteTime": {
     "end_time": "2019-06-25T09:35:03.282826Z",
     "start_time": "2019-06-25T09:26:18.510Z"
    }
   },
   "outputs": [],
   "source": [
    "# plt.figure()\n",
    "# plt.plot(ab_model.predict(X_test[:10]), 'b^', label='RandomForestRegressor')\n",
    "# plt.plot(rf_model.predict(X_test[:10]), 'ys', label='AdaBoostRegressor')\n",
    "# plt.plot(vr_model.predict(X_test[:10]), 'r*', label='VotingRegressor')\n",
    "# plt.tick_params(axis='x', which='both', bottom=False, top=False,\n",
    "#                 labelbottom=False)\n",
    "# plt.ylabel('predicted')\n",
    "# plt.xlabel('training samples')\n",
    "# plt.legend(loc=\"best\")\n",
    "# plt.title('Comparison of individual predictions with averaged')\n",
    "# plt.show()"
   ]
  },
  {
   "cell_type": "code",
   "execution_count": 149,
   "metadata": {
    "ExecuteTime": {
     "end_time": "2019-06-25T09:35:03.291518Z",
     "start_time": "2019-06-25T09:26:18.513Z"
    }
   },
   "outputs": [
    {
     "data": {
      "text/html": [
       "<div>\n",
       "<style scoped>\n",
       "    .dataframe tbody tr th:only-of-type {\n",
       "        vertical-align: middle;\n",
       "    }\n",
       "\n",
       "    .dataframe tbody tr th {\n",
       "        vertical-align: top;\n",
       "    }\n",
       "\n",
       "    .dataframe thead th {\n",
       "        text-align: right;\n",
       "    }\n",
       "</style>\n",
       "<table border=\"1\" class=\"dataframe\">\n",
       "  <thead>\n",
       "    <tr style=\"text-align: right;\">\n",
       "      <th></th>\n",
       "      <th>distance</th>\n",
       "      <th>advance_purchase</th>\n",
       "      <th>eft</th>\n",
       "      <th>departure_time_0</th>\n",
       "      <th>departure_time_1</th>\n",
       "      <th>departure_time_2</th>\n",
       "      <th>departure_time_3</th>\n",
       "      <th>carrier_AA</th>\n",
       "      <th>carrier_AS</th>\n",
       "      <th>carrier_B6</th>\n",
       "      <th>...</th>\n",
       "      <th>origin_destination_SFO-FLL</th>\n",
       "      <th>origin_destination_SFO-JFK</th>\n",
       "      <th>origin_destination_SFO-LAS</th>\n",
       "      <th>origin_destination_SFO-LAX</th>\n",
       "      <th>origin_destination_SFO-MCO</th>\n",
       "      <th>origin_destination_SFO-MIA</th>\n",
       "      <th>origin_destination_SFO-ORD</th>\n",
       "      <th>origin_destination_SFO-SEA</th>\n",
       "      <th>is_weekend_False</th>\n",
       "      <th>is_weekend_True</th>\n",
       "    </tr>\n",
       "  </thead>\n",
       "  <tbody>\n",
       "    <tr>\n",
       "      <th>99993</th>\n",
       "      <td>1537</td>\n",
       "      <td>4.127134</td>\n",
       "      <td>3.183</td>\n",
       "      <td>0</td>\n",
       "      <td>1</td>\n",
       "      <td>0</td>\n",
       "      <td>0</td>\n",
       "      <td>1</td>\n",
       "      <td>0</td>\n",
       "      <td>0</td>\n",
       "      <td>...</td>\n",
       "      <td>0</td>\n",
       "      <td>0</td>\n",
       "      <td>0</td>\n",
       "      <td>0</td>\n",
       "      <td>0</td>\n",
       "      <td>0</td>\n",
       "      <td>0</td>\n",
       "      <td>0</td>\n",
       "      <td>0</td>\n",
       "      <td>1</td>\n",
       "    </tr>\n",
       "    <tr>\n",
       "      <th>99994</th>\n",
       "      <td>1510</td>\n",
       "      <td>3.295837</td>\n",
       "      <td>2.900</td>\n",
       "      <td>0</td>\n",
       "      <td>1</td>\n",
       "      <td>0</td>\n",
       "      <td>0</td>\n",
       "      <td>0</td>\n",
       "      <td>0</td>\n",
       "      <td>1</td>\n",
       "      <td>...</td>\n",
       "      <td>0</td>\n",
       "      <td>0</td>\n",
       "      <td>1</td>\n",
       "      <td>0</td>\n",
       "      <td>0</td>\n",
       "      <td>0</td>\n",
       "      <td>0</td>\n",
       "      <td>0</td>\n",
       "      <td>1</td>\n",
       "      <td>0</td>\n",
       "    </tr>\n",
       "    <tr>\n",
       "      <th>99995</th>\n",
       "      <td>1510</td>\n",
       "      <td>3.465736</td>\n",
       "      <td>2.967</td>\n",
       "      <td>0</td>\n",
       "      <td>1</td>\n",
       "      <td>0</td>\n",
       "      <td>0</td>\n",
       "      <td>0</td>\n",
       "      <td>0</td>\n",
       "      <td>0</td>\n",
       "      <td>...</td>\n",
       "      <td>0</td>\n",
       "      <td>0</td>\n",
       "      <td>0</td>\n",
       "      <td>0</td>\n",
       "      <td>0</td>\n",
       "      <td>0</td>\n",
       "      <td>0</td>\n",
       "      <td>0</td>\n",
       "      <td>1</td>\n",
       "      <td>0</td>\n",
       "    </tr>\n",
       "    <tr>\n",
       "      <th>99996</th>\n",
       "      <td>1723</td>\n",
       "      <td>1.386294</td>\n",
       "      <td>2.817</td>\n",
       "      <td>0</td>\n",
       "      <td>1</td>\n",
       "      <td>0</td>\n",
       "      <td>0</td>\n",
       "      <td>0</td>\n",
       "      <td>0</td>\n",
       "      <td>1</td>\n",
       "      <td>...</td>\n",
       "      <td>0</td>\n",
       "      <td>0</td>\n",
       "      <td>0</td>\n",
       "      <td>0</td>\n",
       "      <td>0</td>\n",
       "      <td>0</td>\n",
       "      <td>0</td>\n",
       "      <td>0</td>\n",
       "      <td>1</td>\n",
       "      <td>0</td>\n",
       "    </tr>\n",
       "    <tr>\n",
       "      <th>99997</th>\n",
       "      <td>3494</td>\n",
       "      <td>2.772589</td>\n",
       "      <td>5.800</td>\n",
       "      <td>0</td>\n",
       "      <td>0</td>\n",
       "      <td>0</td>\n",
       "      <td>1</td>\n",
       "      <td>0</td>\n",
       "      <td>0</td>\n",
       "      <td>0</td>\n",
       "      <td>...</td>\n",
       "      <td>0</td>\n",
       "      <td>0</td>\n",
       "      <td>0</td>\n",
       "      <td>0</td>\n",
       "      <td>0</td>\n",
       "      <td>0</td>\n",
       "      <td>0</td>\n",
       "      <td>0</td>\n",
       "      <td>1</td>\n",
       "      <td>0</td>\n",
       "    </tr>\n",
       "  </tbody>\n",
       "</table>\n",
       "<p>5 rows × 352 columns</p>\n",
       "</div>"
      ],
      "text/plain": [
       "       distance  advance_purchase    eft  departure_time_0  departure_time_1  \\\n",
       "99993      1537          4.127134  3.183                 0                 1   \n",
       "99994      1510          3.295837  2.900                 0                 1   \n",
       "99995      1510          3.465736  2.967                 0                 1   \n",
       "99996      1723          1.386294  2.817                 0                 1   \n",
       "99997      3494          2.772589  5.800                 0                 0   \n",
       "\n",
       "       departure_time_2  departure_time_3  carrier_AA  carrier_AS  carrier_B6  \\\n",
       "99993                 0                 0           1           0           0   \n",
       "99994                 0                 0           0           0           1   \n",
       "99995                 0                 0           0           0           0   \n",
       "99996                 0                 0           0           0           1   \n",
       "99997                 0                 1           0           0           0   \n",
       "\n",
       "       ...  origin_destination_SFO-FLL  origin_destination_SFO-JFK  \\\n",
       "99993  ...                           0                           0   \n",
       "99994  ...                           0                           0   \n",
       "99995  ...                           0                           0   \n",
       "99996  ...                           0                           0   \n",
       "99997  ...                           0                           0   \n",
       "\n",
       "       origin_destination_SFO-LAS  origin_destination_SFO-LAX  \\\n",
       "99993                           0                           0   \n",
       "99994                           1                           0   \n",
       "99995                           0                           0   \n",
       "99996                           0                           0   \n",
       "99997                           0                           0   \n",
       "\n",
       "       origin_destination_SFO-MCO  origin_destination_SFO-MIA  \\\n",
       "99993                           0                           0   \n",
       "99994                           0                           0   \n",
       "99995                           0                           0   \n",
       "99996                           0                           0   \n",
       "99997                           0                           0   \n",
       "\n",
       "       origin_destination_SFO-ORD  origin_destination_SFO-SEA  \\\n",
       "99993                           0                           0   \n",
       "99994                           0                           0   \n",
       "99995                           0                           0   \n",
       "99996                           0                           0   \n",
       "99997                           0                           0   \n",
       "\n",
       "       is_weekend_False  is_weekend_True  \n",
       "99993                 0                1  \n",
       "99994                 1                0  \n",
       "99995                 1                0  \n",
       "99996                 1                0  \n",
       "99997                 1                0  \n",
       "\n",
       "[5 rows x 352 columns]"
      ]
     },
     "execution_count": 149,
     "metadata": {},
     "output_type": "execute_result"
    }
   ],
   "source": [
    "X_sub.head()"
   ]
  },
  {
   "cell_type": "code",
   "execution_count": 150,
   "metadata": {
    "ExecuteTime": {
     "end_time": "2019-06-25T09:35:03.295992Z",
     "start_time": "2019-06-25T09:26:18.515Z"
    }
   },
   "outputs": [],
   "source": [
    "y_sub = ab_model.predict(np.array(X_sub))\n",
    "# y_sub = rf_model.predict(np.array(X_sub))"
   ]
  },
  {
   "cell_type": "code",
   "execution_count": 151,
   "metadata": {
    "ExecuteTime": {
     "end_time": "2019-06-25T09:35:03.311743Z",
     "start_time": "2019-06-25T09:26:18.517Z"
    }
   },
   "outputs": [],
   "source": [
    "y_sub = np.expm1(y_sub)"
   ]
  },
  {
   "cell_type": "code",
   "execution_count": 152,
   "metadata": {
    "ExecuteTime": {
     "end_time": "2019-06-25T09:35:03.318611Z",
     "start_time": "2019-06-25T09:26:18.519Z"
    }
   },
   "outputs": [],
   "source": [
    "def deNormailzeCurrency (label):\n",
    "    if label['currency'] == 'USD':\n",
    "        return label['price']\n",
    "    elif label['currency'] == 'EUR':\n",
    "        return np.float32(label['price']/1.12)\n",
    "    elif label['currency'] == 'AUD':\n",
    "        return (label['price'] /0.7)\n",
    "    elif label['currency'] == 'HKD':\n",
    "        return (label['price']/0.13)\n",
    "    elif label['currency'] == 'INR':\n",
    "        return (label['price']/0.014)\n",
    "    elif label['currency'] == 'KRW':\n",
    "        return (label['price']/0.00085)\n",
    "    else :\n",
    "        return -1"
   ]
  },
  {
   "cell_type": "code",
   "execution_count": 153,
   "metadata": {
    "ExecuteTime": {
     "end_time": "2019-06-25T09:35:03.322370Z",
     "start_time": "2019-06-25T09:26:18.521Z"
    }
   },
   "outputs": [
    {
     "data": {
      "text/html": [
       "<div>\n",
       "<style scoped>\n",
       "    .dataframe tbody tr th:only-of-type {\n",
       "        vertical-align: middle;\n",
       "    }\n",
       "\n",
       "    .dataframe tbody tr th {\n",
       "        vertical-align: top;\n",
       "    }\n",
       "\n",
       "    .dataframe thead th {\n",
       "        text-align: right;\n",
       "    }\n",
       "</style>\n",
       "<table border=\"1\" class=\"dataframe\">\n",
       "  <thead>\n",
       "    <tr style=\"text-align: right;\">\n",
       "      <th></th>\n",
       "      <th>id</th>\n",
       "      <th>price</th>\n",
       "      <th>number_of_passengers</th>\n",
       "      <th>currency</th>\n",
       "      <th>search_date</th>\n",
       "    </tr>\n",
       "  </thead>\n",
       "  <tbody>\n",
       "    <tr>\n",
       "      <th>0</th>\n",
       "      <td>100001</td>\n",
       "      <td>101.752549</td>\n",
       "      <td>2</td>\n",
       "      <td>INR</td>\n",
       "      <td>20181204</td>\n",
       "    </tr>\n",
       "    <tr>\n",
       "      <th>1</th>\n",
       "      <td>100002</td>\n",
       "      <td>120.200000</td>\n",
       "      <td>4</td>\n",
       "      <td>USD</td>\n",
       "      <td>20181219</td>\n",
       "    </tr>\n",
       "    <tr>\n",
       "      <th>2</th>\n",
       "      <td>100003</td>\n",
       "      <td>76.200000</td>\n",
       "      <td>4</td>\n",
       "      <td>USD</td>\n",
       "      <td>20181221</td>\n",
       "    </tr>\n",
       "    <tr>\n",
       "      <th>3</th>\n",
       "      <td>100004</td>\n",
       "      <td>592.390000</td>\n",
       "      <td>4</td>\n",
       "      <td>USD</td>\n",
       "      <td>20181229</td>\n",
       "    </tr>\n",
       "    <tr>\n",
       "      <th>4</th>\n",
       "      <td>100005</td>\n",
       "      <td>361.200000</td>\n",
       "      <td>1</td>\n",
       "      <td>USD</td>\n",
       "      <td>20181205</td>\n",
       "    </tr>\n",
       "  </tbody>\n",
       "</table>\n",
       "</div>"
      ],
      "text/plain": [
       "       id       price  number_of_passengers currency  search_date\n",
       "0  100001  101.752549                     2      INR     20181204\n",
       "1  100002  120.200000                     4      USD     20181219\n",
       "2  100003   76.200000                     4      USD     20181221\n",
       "3  100004  592.390000                     4      USD     20181229\n",
       "4  100005  361.200000                     1      USD     20181205"
      ]
     },
     "execution_count": 153,
     "metadata": {},
     "output_type": "execute_result"
    }
   ],
   "source": [
    "df_subf.iloc[:,1] = y_sub\n",
    "df_subf.head()"
   ]
  },
  {
   "cell_type": "code",
   "execution_count": 154,
   "metadata": {
    "ExecuteTime": {
     "end_time": "2019-06-25T09:35:03.327824Z",
     "start_time": "2019-06-25T09:26:18.523Z"
    }
   },
   "outputs": [
    {
     "data": {
      "text/html": [
       "<div>\n",
       "<style scoped>\n",
       "    .dataframe tbody tr th:only-of-type {\n",
       "        vertical-align: middle;\n",
       "    }\n",
       "\n",
       "    .dataframe tbody tr th {\n",
       "        vertical-align: top;\n",
       "    }\n",
       "\n",
       "    .dataframe thead th {\n",
       "        text-align: right;\n",
       "    }\n",
       "</style>\n",
       "<table border=\"1\" class=\"dataframe\">\n",
       "  <thead>\n",
       "    <tr style=\"text-align: right;\">\n",
       "      <th></th>\n",
       "      <th>id</th>\n",
       "      <th>price</th>\n",
       "      <th>number_of_passengers</th>\n",
       "      <th>currency</th>\n",
       "      <th>search_date</th>\n",
       "    </tr>\n",
       "  </thead>\n",
       "  <tbody>\n",
       "    <tr>\n",
       "      <th>0</th>\n",
       "      <td>100001</td>\n",
       "      <td>14353.985716</td>\n",
       "      <td>2</td>\n",
       "      <td>INR</td>\n",
       "      <td>20181204</td>\n",
       "    </tr>\n",
       "    <tr>\n",
       "      <th>1</th>\n",
       "      <td>100002</td>\n",
       "      <td>480.800000</td>\n",
       "      <td>4</td>\n",
       "      <td>USD</td>\n",
       "      <td>20181219</td>\n",
       "    </tr>\n",
       "    <tr>\n",
       "      <th>2</th>\n",
       "      <td>100003</td>\n",
       "      <td>304.800000</td>\n",
       "      <td>4</td>\n",
       "      <td>USD</td>\n",
       "      <td>20181221</td>\n",
       "    </tr>\n",
       "    <tr>\n",
       "      <th>3</th>\n",
       "      <td>100004</td>\n",
       "      <td>2369.560000</td>\n",
       "      <td>4</td>\n",
       "      <td>USD</td>\n",
       "      <td>20181229</td>\n",
       "    </tr>\n",
       "    <tr>\n",
       "      <th>4</th>\n",
       "      <td>100005</td>\n",
       "      <td>361.200000</td>\n",
       "      <td>1</td>\n",
       "      <td>USD</td>\n",
       "      <td>20181205</td>\n",
       "    </tr>\n",
       "  </tbody>\n",
       "</table>\n",
       "</div>"
      ],
      "text/plain": [
       "       id         price  number_of_passengers currency  search_date\n",
       "0  100001  14353.985716                     2      INR     20181204\n",
       "1  100002    480.800000                     4      USD     20181219\n",
       "2  100003    304.800000                     4      USD     20181221\n",
       "3  100004   2369.560000                     4      USD     20181229\n",
       "4  100005    361.200000                     1      USD     20181205"
      ]
     },
     "execution_count": 154,
     "metadata": {},
     "output_type": "execute_result"
    }
   ],
   "source": [
    "df_subf['price'] = (df_subf['price'] * np.float32(df_subf['number_of_passengers']))\n",
    "df_subf['price'] = df_subf.apply (lambda x: x['price'] / rates.get(Rate(x['search_date'], x['currency'])), axis=1)\n",
    "df_subf.head()"
   ]
  },
  {
   "cell_type": "code",
   "execution_count": 155,
   "metadata": {
    "ExecuteTime": {
     "end_time": "2019-06-25T09:35:03.334939Z",
     "start_time": "2019-06-25T09:26:18.526Z"
    }
   },
   "outputs": [],
   "source": [
    "df_subf.to_csv(\"sample_submission_result.csv\", columns = ['id','price'], index = False)\n"
   ]
  },
  {
   "cell_type": "code",
   "execution_count": null,
   "metadata": {},
   "outputs": [],
   "source": []
  },
  {
   "cell_type": "code",
   "execution_count": null,
   "metadata": {},
   "outputs": [],
   "source": []
  }
 ],
 "metadata": {
  "kernelspec": {
   "display_name": "Python 3",
   "language": "python",
   "name": "python3"
  },
  "language_info": {
   "codemirror_mode": {
    "name": "ipython",
    "version": 3
   },
   "file_extension": ".py",
   "mimetype": "text/x-python",
   "name": "python",
   "nbconvert_exporter": "python",
   "pygments_lexer": "ipython3",
   "version": "3.7.3"
  }
 },
 "nbformat": 4,
 "nbformat_minor": 2
}
